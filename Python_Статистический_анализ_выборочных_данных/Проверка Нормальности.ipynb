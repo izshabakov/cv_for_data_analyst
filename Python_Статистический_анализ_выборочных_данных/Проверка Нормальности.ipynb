{
 "cells": [
  {
   "cell_type": "code",
   "execution_count": 1,
   "id": "69014132",
   "metadata": {},
   "outputs": [],
   "source": [
    "import pandas as pd\n",
    "import numpy as np\n",
    "import matplotlib.pyplot as plt\n",
    "import math\n",
    "from scipy.stats import multivariate_normal\n",
    "from scipy.optimize import minimize\n",
    "from statsmodels.stats.diagnostic import lilliefors"
   ]
  },
  {
   "cell_type": "code",
   "execution_count": 2,
   "id": "7b0d2d4a",
   "metadata": {},
   "outputs": [
    {
     "name": "stderr",
     "output_type": "stream",
     "text": [
      "C:\\Users\\vasia\\anaconda3\\lib\\site-packages\\openpyxl\\styles\\stylesheet.py:226: UserWarning: Workbook contains no default style, apply openpyxl's default\n",
      "  warn(\"Workbook contains no default style, apply openpyxl's default\")\n"
     ]
    },
    {
     "data": {
      "text/html": [
       "<div>\n",
       "<style scoped>\n",
       "    .dataframe tbody tr th:only-of-type {\n",
       "        vertical-align: middle;\n",
       "    }\n",
       "\n",
       "    .dataframe tbody tr th {\n",
       "        vertical-align: top;\n",
       "    }\n",
       "\n",
       "    .dataframe thead th {\n",
       "        text-align: right;\n",
       "    }\n",
       "</style>\n",
       "<table border=\"1\" class=\"dataframe\">\n",
       "  <thead>\n",
       "    <tr style=\"text-align: right;\">\n",
       "      <th></th>\n",
       "      <th>first</th>\n",
       "      <th>second</th>\n",
       "      <th>third</th>\n",
       "    </tr>\n",
       "  </thead>\n",
       "  <tbody>\n",
       "    <tr>\n",
       "      <th>0</th>\n",
       "      <td>121.7</td>\n",
       "      <td>126.0</td>\n",
       "      <td>118.7</td>\n",
       "    </tr>\n",
       "    <tr>\n",
       "      <th>1</th>\n",
       "      <td>119.7</td>\n",
       "      <td>120.1</td>\n",
       "      <td>121.8</td>\n",
       "    </tr>\n",
       "    <tr>\n",
       "      <th>2</th>\n",
       "      <td>120.4</td>\n",
       "      <td>114.3</td>\n",
       "      <td>115.6</td>\n",
       "    </tr>\n",
       "    <tr>\n",
       "      <th>3</th>\n",
       "      <td>117.3</td>\n",
       "      <td>118.4</td>\n",
       "      <td>118.6</td>\n",
       "    </tr>\n",
       "    <tr>\n",
       "      <th>4</th>\n",
       "      <td>126.6</td>\n",
       "      <td>121.2</td>\n",
       "      <td>126.3</td>\n",
       "    </tr>\n",
       "  </tbody>\n",
       "</table>\n",
       "</div>"
      ],
      "text/plain": [
       "   first  second  third\n",
       "0  121.7   126.0  118.7\n",
       "1  119.7   120.1  121.8\n",
       "2  120.4   114.3  115.6\n",
       "3  117.3   118.4  118.6\n",
       "4  126.6   121.2  126.3"
      ]
     },
     "execution_count": 2,
     "metadata": {},
     "output_type": "execute_result"
    }
   ],
   "source": [
    "data = pd.read_excel(\"Mex5.xlsx\", names=[\"first\", \"second\", \"third\"], header=None)\n",
    "data.head()"
   ]
  },
  {
   "cell_type": "code",
   "execution_count": 3,
   "id": "e3e1ade8",
   "metadata": {},
   "outputs": [],
   "source": [
    "def f(params):\n",
    "    m, t, s = params\n",
    "    mean = [m, m, m]\n",
    "    t_sq = t*t\n",
    "    s_sq = s*s\n",
    "    deviation = [[t_sq + s_sq, t_sq, t_sq], \n",
    "                 [t_sq, t_sq + s_sq, t_sq], \n",
    "                 [t_sq, t_sq, t_sq + s_sq]]\n",
    "    return -sum(np.log(multivariate_normal.pdf(data.to_numpy(), mean, deviation)))"
   ]
  },
  {
   "cell_type": "code",
   "execution_count": 4,
   "id": "aafa3d0b",
   "metadata": {},
   "outputs": [
    {
     "data": {
      "text/plain": [
       "      fun: 3144.324918926971\n",
       " hess_inv: <3x3 LbfgsInvHessProduct with dtype=float64>\n",
       "      jac: array([ 0.00059117, -0.00040927, -0.0003638 ])\n",
       "  message: 'CONVERGENCE: REL_REDUCTION_OF_F_<=_FACTR*EPSMCH'\n",
       "     nfev: 52\n",
       "      nit: 12\n",
       "     njev: 13\n",
       "   status: 0\n",
       "  success: True\n",
       "        x: array([121.82886905,   2.06959622,   2.32695169])"
      ]
     },
     "execution_count": 4,
     "metadata": {},
     "output_type": "execute_result"
    }
   ],
   "source": [
    "initial_guess = [120, 1, 1]\n",
    "variable_bounds = ((-math.inf, math.inf),(0, math.inf), (0,math.inf))\n",
    "optimum = minimize(f, initial_guess, bounds = variable_bounds)\n",
    "optimum"
   ]
  },
  {
   "cell_type": "code",
   "execution_count": 5,
   "id": "812fda07",
   "metadata": {},
   "outputs": [
    {
     "data": {
      "text/plain": [
       "(121.82886904718102, 2.0695962187324892, 2.326951692615944)"
      ]
     },
     "execution_count": 5,
     "metadata": {},
     "output_type": "execute_result"
    }
   ],
   "source": [
    "mu, tau, sigma = optimum.x\n",
    "mu, tau, sigma"
   ]
  },
  {
   "cell_type": "code",
   "execution_count": 6,
   "id": "6411646e",
   "metadata": {},
   "outputs": [
    {
     "data": {
      "text/plain": [
       "0      122.133333\n",
       "1      120.533333\n",
       "2      116.766667\n",
       "3      118.100000\n",
       "4      124.700000\n",
       "          ...    \n",
       "420    124.266667\n",
       "421    122.533333\n",
       "422    122.500000\n",
       "423    120.800000\n",
       "424    120.366667\n",
       "Length: 425, dtype: float64"
      ]
     },
     "execution_count": 6,
     "metadata": {},
     "output_type": "execute_result"
    }
   ],
   "source": [
    "x = data.mean(axis=1)\n",
    "x"
   ]
  },
  {
   "cell_type": "code",
   "execution_count": 7,
   "id": "86615158",
   "metadata": {},
   "outputs": [
    {
     "data": {
      "text/plain": [
       "(425, 2.467415548902338, 121.82886274509808)"
      ]
     },
     "execution_count": 7,
     "metadata": {},
     "output_type": "execute_result"
    }
   ],
   "source": [
    "n = len(x)\n",
    "s = np.std(x)\n",
    "m = np.mean(x)\n",
    "n, s, m"
   ]
  },
  {
   "cell_type": "code",
   "execution_count": 8,
   "id": "4fefdee8",
   "metadata": {},
   "outputs": [
    {
     "data": {
      "text/plain": [
       "2.4674136057515543"
      ]
     },
     "execution_count": 8,
     "metadata": {},
     "output_type": "execute_result"
    }
   ],
   "source": [
    "smle = np.sqrt((sigma**2)/3 + tau**2)\n",
    "smle"
   ]
  },
  {
   "cell_type": "code",
   "execution_count": 9,
   "id": "6bf6cea6",
   "metadata": {},
   "outputs": [],
   "source": [
    "from scipy.stats import norm"
   ]
  },
  {
   "cell_type": "code",
   "execution_count": 10,
   "id": "35fc2268",
   "metadata": {},
   "outputs": [
    {
     "data": {
      "text/plain": [
       "<matplotlib.legend.Legend at 0x2b7aeb8a3d0>"
      ]
     },
     "execution_count": 10,
     "metadata": {},
     "output_type": "execute_result"
    },
    {
     "data": {
      "image/png": "[encoded data removed]",
      "text/plain": [
       "<Figure size 800x480 with 1 Axes>"
      ]
     },
     "metadata": {
      "needs_background": "light"
     },
     "output_type": "display_data"
    }
   ],
   "source": [
    "plt.figure(figsize=(10, 6), dpi=80)\n",
    "sorted_x = sorted(x)\n",
    "x.plot(kind='density', label=\"density\")\n",
    "plt.plot(sorted_x, norm.pdf(sorted_x, mu, smle), label=\"distribution\")\n",
    "plt.legend()"
   ]
  },
  {
   "cell_type": "code",
   "execution_count": 11,
   "id": "1d41e647",
   "metadata": {},
   "outputs": [
    {
     "data": {
      "text/plain": [
       "<matplotlib.legend.Legend at 0x2b7aec345e0>"
      ]
     },
     "execution_count": 11,
     "metadata": {},
     "output_type": "execute_result"
    },
    {
     "data": {
      "image/png": "[encoded data removed]",
      "text/plain": [
       "<Figure size 800x480 with 1 Axes>"
      ]
     },
     "metadata": {
      "needs_background": "light"
     },
     "output_type": "display_data"
    }
   ],
   "source": [
    "plt.figure(figsize=(10, 6), dpi=80)\n",
    "plt.plot(sorted_x, np.cumsum(sorted_x)/sum(sorted_x),label=\"CDF\")\n",
    "plt.plot(sorted_x, norm.cdf(sorted_x, mu, smle), label=\"distribution\")\n",
    "plt.legend()"
   ]
  },
  {
   "cell_type": "code",
   "execution_count": 12,
   "id": "033e3593",
   "metadata": {},
   "outputs": [
    {
     "data": {
      "text/plain": [
       "(0.03883069334374445, 0.14872426865999644)"
      ]
     },
     "execution_count": 12,
     "metadata": {},
     "output_type": "execute_result"
    }
   ],
   "source": [
    "Kolmogorov_Smirnov_stat, pvalue = lilliefors(x, dist='norm')\n",
    "Kolmogorov_Smirnov_stat, pvalue"
   ]
  },
  {
   "cell_type": "markdown",
   "id": "56587d83",
   "metadata": {},
   "source": [
    "### Из документации\n",
    "\n",
    "If the pvalue is lower than some threshold, e.g. 0.05, then we can reject the Null hypothesis that the sample comes from a normal distribution"
   ]
  },
  {
   "cell_type": "code",
   "execution_count": 13,
   "id": "df1479d1",
   "metadata": {},
   "outputs": [],
   "source": [
    "teta0 = 117\n",
    "n = 3\n",
    "alpha = 1e-4"
   ]
  },
  {
   "cell_type": "code",
   "execution_count": 66,
   "id": "157e4421",
   "metadata": {},
   "outputs": [],
   "source": [
    "from scipy.stats import norm\n",
    "from scipy.integrate import quad\n",
    "\n",
    "def generate_probabilty_bigger_c_integrand(n, mu, tau, c, sigma):\n",
    "    def integrand(teta):\n",
    "        return ((1 - norm.cdf(c, teta, sigma))**n) * norm.pdf(teta, mu, tau)\n",
    "    return integrand\n",
    "    \n",
    "def generate_probabilty_lowwer_c_integrand(n, mu, tau, c, sigma):\n",
    "    def integrand(teta):\n",
    "        return (1 - (1 - norm.cdf(c, teta, sigma))**n) * norm.pdf(teta, mu, tau)\n",
    "    return integrand\n",
    "    \n",
    "def generate_zavodskoy(n, mu, tau, sigma, teta0):\n",
    "    def zavodskoy(c):\n",
    "        integrand = generate_probabilty_bigger_c_integrand(n, mu, tau, c, sigma)\n",
    "        upper = quad(integrand, 110, teta0)[0]\n",
    "        lowwer = quad(integrand, 110, 130)[0]\n",
    "        return upper/lowwer\n",
    "    return zavodskoy\n",
    "    \n",
    "def calculate_error_2(n, mu, c, tau, sigma, teta0):\n",
    "    upper_integrand = generate_probabilty_lowwer_c_integrand(n, mu, tau, c, sigma)\n",
    "    lowwer_integrand = generate_probabilty_bigger_c_integrand(n, mu, tau, c, sigma)\n",
    "    upper = quad(upper_integrand, teta0, 130)[0]\n",
    "    lower = quad(lowwer_integrand, 110, 130)[0]\n",
    "    return upper/(1-lower)"
   ]
  },
  {
   "cell_type": "code",
   "execution_count": 67,
   "id": "f1e25ec5",
   "metadata": {},
   "outputs": [],
   "source": [
    "from scipy.optimize import bisect\n",
    "\n",
    "def generate_zavodscoy_goal_function(alpha, n, mu, tau, sigma, teta0):\n",
    "    zavodskoy = generate_zavodskoy(n, mu, tau, sigma, teta0)\n",
    "    def goal(c):\n",
    "        result = zavodskoy(c) - alpha\n",
    "        return result\n",
    "    return goal\n",
    "    \n",
    "def find_c_zavodskoy(a, b, alpha, n, mu, tau, sigma, teta0):\n",
    "    f = generate_zavodscoy_goal_function(alpha, n, mu, tau, sigma, teta0)\n",
    "    return bisect(f, a, b)"
   ]
  },
  {
   "cell_type": "code",
   "execution_count": 52,
   "id": "a7a35452",
   "metadata": {},
   "outputs": [
    {
     "data": {
      "text/plain": [
       "118.55005570763865"
      ]
     },
     "execution_count": 52,
     "metadata": {},
     "output_type": "execute_result"
    }
   ],
   "source": [
    "a = 110\n",
    "b = 130\n",
    "c = find_c_zavodskoy(a, b, alpha, n, mu, tau, sigma, teta0)\n",
    "c"
   ]
  },
  {
   "cell_type": "code",
   "execution_count": 55,
   "id": "9e33a8f2",
   "metadata": {},
   "outputs": [
    {
     "data": {
      "text/plain": [
       "0.9685517997178307"
      ]
     },
     "execution_count": 55,
     "metadata": {},
     "output_type": "execute_result"
    }
   ],
   "source": [
    "error = calculate_error_2(n, mu, c, tau, sigma, teta0)\n",
    "error"
   ]
  },
  {
   "cell_type": "code",
   "execution_count": 68,
   "id": "ee18be79",
   "metadata": {},
   "outputs": [],
   "source": [
    "def generate_probabilty_bigger_c_integrand_optimum(n, mu, tau, c, sigma):\n",
    "    def integrand(teta):\n",
    "        return (1 - norm.cdf(c, teta, sigma/np.sqrt(n))) * norm.pdf(teta, mu, tau)\n",
    "    return integrand\n",
    "    \n",
    "def generate_probabilty_lowwer_c_integrand_optimum(n, mu, tau, c, sigma):\n",
    "    def integrand(teta):\n",
    "        return (1 - (1 - norm.cdf(c, teta, sigma/np.sqrt(n)))) * norm.pdf(teta, mu, tau)\n",
    "    return integrand\n",
    "    \n",
    "def generate_optimum(n, mu, tau, sigma, teta0):\n",
    "    def optimum(c):\n",
    "        integrand = generate_probabilty_bigger_c_integrand_optimum(n, mu, tau, c, sigma)\n",
    "        upper = quad(integrand, 110, teta0)[0]\n",
    "        lowwer = quad(integrand, 110, 130)[0]\n",
    "        return upper/lowwer\n",
    "    return optimum\n",
    "    \n",
    "def calculate_error_2_optimum(n, mu, c, tau, sigma, teta0):\n",
    "    upper_integrand = generate_probabilty_lowwer_c_integrand_optimum(n, mu, tau, c, sigma)\n",
    "    lowwer_integrand = generate_probabilty_bigger_c_integrand_optimum(n, mu, tau, c, sigma)\n",
    "    upper = quad(upper_integrand, teta0, 130)[0]\n",
    "    lower = quad(lowwer_integrand, 110, 130)[0]\n",
    "    return upper/(1-lower)"
   ]
  },
  {
   "cell_type": "code",
   "execution_count": 69,
   "id": "3848aaa7",
   "metadata": {},
   "outputs": [],
   "source": [
    "def generate_optimum_goal_function(alpha, n, mu, tau, sigma, teta0):\n",
    "    optimum = generate_optimum(n, mu, tau, sigma, teta0)\n",
    "    def goal(c):\n",
    "        result = optimum(c) - alpha\n",
    "        return result\n",
    "    return goal\n",
    "    \n",
    "def find_c_optimum(a, b, alpha, n, mu, tau, sigma, teta0):\n",
    "    f = generate_optimum_goal_function(alpha, n, mu, tau, sigma, teta0)\n",
    "    return bisect(f, a, b)"
   ]
  },
  {
   "cell_type": "code",
   "execution_count": 58,
   "id": "0415f71f",
   "metadata": {},
   "outputs": [
    {
     "data": {
      "text/plain": [
       "119.76322244783773"
      ]
     },
     "execution_count": 58,
     "metadata": {},
     "output_type": "execute_result"
    }
   ],
   "source": [
    "a = 110\n",
    "b = 130\n",
    "c = find_c_optimum(n, mu, c, tau, sigma, teta0)\n",
    "c"
   ]
  },
  {
   "cell_type": "code",
   "execution_count": 60,
   "id": "a27a675d",
   "metadata": {},
   "outputs": [
    {
     "data": {
      "text/plain": [
       "0.9514266098491677"
      ]
     },
     "execution_count": 60,
     "metadata": {},
     "output_type": "execute_result"
    }
   ],
   "source": [
    "error = calculate_error_2_optimum(n, mu, c, tau, sigma, teta0)\n",
    "error"
   ]
  },
  {
   "cell_type": "code",
   "execution_count": 81,
   "id": "8b9a769d",
   "metadata": {},
   "outputs": [],
   "source": [
    "def find_zavodskoy_n(n_list, a, b, alpha, mu, tau, sigma, teta0):\n",
    "    min_n = -1\n",
    "    c_min = -1\n",
    "    error_min = 1e+10\n",
    "    for n in n_list:\n",
    "        c = find_c_zavodskoy(a, b, alpha, n, mu, tau, sigma, teta0)\n",
    "        error = calculate_error_2(n, mu, c, tau, sigma, teta0)\n",
    "        print(f\"n :{n}, error: {error}\")\n",
    "        if error < error_min:\n",
    "            min_n = n\n",
    "            c_min = c\n",
    "            error_min = error\n",
    "        \n",
    "        if error < 0.2:\n",
    "            return n, c, error\n",
    "    return min_n, c_min, error_min\n",
    "\n",
    "def find_optimum_n(n_list, a, b, alpha, mu, tau, sigma, teta0):\n",
    "    min_n = -1\n",
    "    c_min = -1\n",
    "    error_min = 1e+10\n",
    "    for n in n_list:\n",
    "        c = find_c_optimum(a, b, alpha, n, mu, tau, sigma, teta0)\n",
    "        error = calculate_error_2_optimum(n, mu, c, tau, sigma, teta0)\n",
    "        print(f\"n :{n}, error: {error}\")\n",
    "        if error < error_min:\n",
    "            min_n = n\n",
    "            c_min = c\n",
    "            error_min = error\n",
    "        \n",
    "        if error < 0.2:\n",
    "            return n, c, error\n",
    "    return min_n, c_min, error_min"
   ]
  },
  {
   "cell_type": "code",
   "execution_count": 83,
   "id": "36fb8980",
   "metadata": {},
   "outputs": [],
   "source": [
    "n_list = list(range(10, 1000, 10))\n",
    "a = 110\n",
    "b = 130"
   ]
  },
  {
   "cell_type": "code",
   "execution_count": 84,
   "id": "42536cfc",
   "metadata": {},
   "outputs": [
    {
     "name": "stdout",
     "output_type": "stream",
     "text": [
      "n :10, error: 0.9413046473986487\n",
      "n :20, error: 0.9221421511188684\n",
      "n :30, error: 0.9103043690017815\n",
      "n :40, error: 0.9017559666573349\n",
      "n :50, error: 0.8950817728238561\n",
      "n :60, error: 0.8896179492751599\n",
      "n :70, error: 0.8849996519520492\n",
      "n :80, error: 0.8810048996929517\n",
      "n :90, error: 0.8774886394407593\n",
      "n :100, error: 0.8743509196131807\n",
      "n :110, error: 0.87151997654756\n",
      "n :120, error: 0.8689425660576984\n",
      "n :130, error: 0.8665781099933517\n",
      "n :140, error: 0.8643949839422022\n",
      "n :150, error: 0.8623680706369764\n",
      "n :160, error: 0.8604770945358852\n",
      "n :170, error: 0.8587054564202856\n",
      "n :180, error: 0.8570393981947556\n",
      "n :190, error: 0.8554673917320208\n",
      "n :200, error: 0.8539796833755405\n",
      "n :210, error: 0.8525679488802825\n",
      "n :220, error: 0.8512250281783014\n",
      "n :230, error: 0.8499447188110837\n",
      "n :240, error: 0.8487216131397667\n",
      "n :250, error: 0.8475509686609133\n",
      "n :260, error: 0.8464286036773114\n",
      "n :270, error: 0.8453508126072381\n",
      "n :280, error: 0.8443142966601241\n",
      "n :290, error: 0.8433161066598323\n",
      "n :300, error: 0.8423535955447686\n",
      "n :310, error: 0.8414243786525595\n",
      "n :320, error: 0.8405263003061599\n",
      "n :330, error: 0.8396574055411153\n",
      "n :340, error: 0.838815916053513\n",
      "n :350, error: 0.8380002096392688\n",
      "n :360, error: 0.8372088025278012\n",
      "n :370, error: 0.836440334144437\n",
      "n :380, error: 0.8356935539039755\n",
      "n :390, error: 0.8349673097239434\n",
      "n :400, error: 0.8342605379957762\n",
      "n :410, error: 0.8335722547954137\n",
      "n :420, error: 0.8329015481585318\n",
      "n :430, error: 0.8322475712641288\n",
      "n :440, error: 0.8316095364064143\n",
      "n :450, error: 0.8309867096454115\n",
      "n :460, error: 0.830378406046661\n",
      "n :470, error: 0.8297839854361977\n",
      "n :480, error: 0.8292028486047341\n",
      "n :490, error: 0.8286344339008708\n",
      "n :500, error: 0.828078214175322\n",
      "n :510, error: 0.827533694024756\n",
      "n :520, error: 0.8270004073078899\n",
      "n :530, error: 0.8264779148949266\n",
      "n :540, error: 0.8259658026330597\n",
      "n :550, error: 0.8254636794975648\n",
      "n :560, error: 0.824971175908528\n",
      "n :570, error: 0.8244879422015322\n",
      "n :580, error: 0.824013647227412\n",
      "n :590, error: 0.8235479770761487\n",
      "n :600, error: 0.8230906339068971\n",
      "n :610, error: 0.8226413348746006\n",
      "n :620, error: 0.8221998111459642\n",
      "n :630, error: 0.8217658069951375\n",
      "n :640, error: 0.8213390789667322\n",
      "n :650, error: 0.8209193951106093\n",
      "n :660, error: 0.820506534270906\n",
      "n :670, error: 0.8201002854295859\n",
      "n :680, error: 0.8197004470997765\n",
      "n :690, error: 0.8193068267643674\n",
      "n :700, error: 0.8189192403531322\n",
      "n :710, error: 0.8185375117590065\n",
      "n :720, error: 0.8181614723876397\n",
      "n :730, error: 0.817790960737437\n",
      "n :740, error: 0.8174258220124441\n",
      "n :750, error: 0.8170659077538912\n",
      "n :760, error: 0.8167110755049772\n",
      "n :770, error: 0.8163611884901341\n",
      "n :780, error: 0.8160161153209858\n",
      "n :790, error: 0.815675729717701\n",
      "n :800, error: 0.8153399102485037\n",
      "n :810, error: 0.815008540086898\n",
      "n :820, error: 0.814681506782062\n",
      "n :830, error: 0.8143587020459555\n",
      "n :840, error: 0.8140400215492121\n",
      "n :850, error: 0.8137253647337329\n",
      "n :860, error: 0.8134146346325468\n",
      "n :870, error: 0.8131077377023816\n",
      "n :880, error: 0.8128045836656511\n",
      "n :890, error: 0.8125050853598762\n",
      "n :900, error: 0.8122091585995647\n",
      "n :910, error: 0.811916722038121\n",
      "n :920, error: 0.8116276970472482\n",
      "n :930, error: 0.811342007595409\n",
      "n :940, error: 0.8110595801352651\n",
      "n :950, error: 0.8107803434974149\n",
      "n :960, error: 0.8105042287912698\n",
      "n :970, error: 0.8102311693062022\n",
      "n :980, error: 0.8099611004245447\n",
      "n :990, error: 0.8096939595329306\n"
     ]
    },
    {
     "data": {
      "text/plain": [
       "(990, 110.63735440261894, 0.8096939595329306)"
      ]
     },
     "execution_count": 84,
     "metadata": {},
     "output_type": "execute_result"
    }
   ],
   "source": [
    "n, c, error = find_zavodskoy_n(n_list, a, b, alpha, mu, tau, sigma, teta0)\n",
    "n, c, error"
   ]
  },
  {
   "cell_type": "code",
   "execution_count": 85,
   "id": "9d01f48f",
   "metadata": {},
   "outputs": [
    {
     "name": "stdout",
     "output_type": "stream",
     "text": [
      "n :10, error: 0.8269649443432222\n",
      "n :20, error: 0.6990907832264218\n",
      "n :30, error: 0.6127181701243928\n",
      "n :40, error: 0.5499842264048829\n",
      "n :50, error: 0.5018623488028655\n",
      "n :60, error: 0.463470982036613\n",
      "n :70, error: 0.4319353716733241\n",
      "n :80, error: 0.40544261650409147\n",
      "n :90, error: 0.3827863693957166\n",
      "n :100, error: 0.3631288386409263\n",
      "n :110, error: 0.34586765306151895\n",
      "n :120, error: 0.33055711648427816\n",
      "n :130, error: 0.31685942725442195\n",
      "n :140, error: 0.30451326051054195\n",
      "n :150, error: 0.2933128602621001\n",
      "n :160, error: 0.2830937141565091\n",
      "n :170, error: 0.27372250252142033\n",
      "n :180, error: 0.2650898867928922\n",
      "n :190, error: 0.2571052368388428\n",
      "n :200, error: 0.24969270943193514\n",
      "n :210, error: 0.24278828679338774\n",
      "n :220, error: 0.23633750918273605\n",
      "n :230, error: 0.23029371709572474\n",
      "n :240, error: 0.22461667303066044\n",
      "n :250, error: 0.21927146955775534\n",
      "n :260, error: 0.21422765601513155\n",
      "n :270, error: 0.20945853384353277\n",
      "n :280, error: 0.20494058342339266\n",
      "n :290, error: 0.20065299436283673\n",
      "n :300, error: 0.1965772778486257\n"
     ]
    },
    {
     "data": {
      "text/plain": [
       "(300, 117.15473878758644, 0.1965772778486257)"
      ]
     },
     "execution_count": 85,
     "metadata": {},
     "output_type": "execute_result"
    }
   ],
   "source": [
    "n, c, error = find_optimum_n(n_list, a, b, alpha, mu, tau, sigma, teta0)\n",
    "n, c, error"
   ]
  },
  {
   "cell_type": "code",
   "execution_count": null,
   "id": "2041b608",
   "metadata": {},
   "outputs": [],
   "source": []
  }
 ],
 "metadata": {
  "kernelspec": {
   "display_name": "Python 3 (ipykernel)",
   "language": "python",
   "name": "python3"
  },
  "language_info": {
   "codemirror_mode": {
    "name": "ipython",
    "version": 3
   },
   "file_extension": ".py",
   "mimetype": "text/x-python",
   "name": "python",
   "nbconvert_exporter": "python",
   "pygments_lexer": "ipython3",
   "version": "3.9.7"
  },
  "toc": {
   "base_numbering": 1,
   "nav_menu": {},
   "number_sections": true,
   "sideBar": true,
   "skip_h1_title": false,
   "title_cell": "Table of Contents",
   "title_sidebar": "Contents",
   "toc_cell": false,
   "toc_position": {},
   "toc_section_display": true,
   "toc_window_display": false
  },
  "varInspector": {
   "cols": {
    "lenName": 16,
    "lenType": 16,
    "lenVar": 40
   },
   "kernels_config": {
    "python": {
     "delete_cmd_postfix": "",
     "delete_cmd_prefix": "del ",
     "library": "var_list.py",
     "varRefreshCmd": "print(var_dic_list())"
    },
    "r": {
     "delete_cmd_postfix": ") ",
     "delete_cmd_prefix": "rm(",
     "library": "var_list.r",
     "varRefreshCmd": "cat(var_dic_list()) "
    }
   },
   "types_to_exclude": [
    "module",
    "function",
    "builtin_function_or_method",
    "instance",
    "_Feature"
   ],
   "window_display": false
  }
 },
 "nbformat": 4,
 "nbformat_minor": 5
}
