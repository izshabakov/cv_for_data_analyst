{
 "cells": [
  {
   "cell_type": "code",
   "execution_count": 132,
   "id": "574b750a",
   "metadata": {},
   "outputs": [],
   "source": [
    "import pandas as pd\n",
    "import numpy as np\n",
    "import scipy.stats as stats\n",
    "from scipy.stats import multivariate_normal\n",
    "from scipy.optimize import minimize\n",
    "from statsmodels.stats.diagnostic import lilliefors\n",
    "from statsmodels.distributions.empirical_distribution import ECDF\n",
    "from matplotlib import pyplot\n",
    "import math\n",
    "from sklearn.neighbors import KernelDensity\n",
    "from sklearn.model_selection import GridSearchCV\n",
    "from scipy.optimize import brentq"
   ]
  },
  {
   "cell_type": "markdown",
   "id": "5042ca03",
   "metadata": {},
   "source": [
    "# Первое задание"
   ]
  },
  {
   "cell_type": "code",
   "execution_count": 133,
   "id": "3d4489cd",
   "metadata": {},
   "outputs": [
    {
     "name": "stderr",
     "output_type": "stream",
     "text": [
      "C:\\Program Files\\Anaconda3\\lib\\site-packages\\openpyxl\\styles\\stylesheet.py:226: UserWarning: Workbook contains no default style, apply openpyxl's default\n",
      "  warn(\"Workbook contains no default style, apply openpyxl's default\")\n"
     ]
    },
    {
     "data": {
      "text/html": [
       "<div>\n",
       "<style scoped>\n",
       "    .dataframe tbody tr th:only-of-type {\n",
       "        vertical-align: middle;\n",
       "    }\n",
       "\n",
       "    .dataframe tbody tr th {\n",
       "        vertical-align: top;\n",
       "    }\n",
       "\n",
       "    .dataframe thead th {\n",
       "        text-align: right;\n",
       "    }\n",
       "</style>\n",
       "<table border=\"1\" class=\"dataframe\">\n",
       "  <thead>\n",
       "    <tr style=\"text-align: right;\">\n",
       "      <th></th>\n",
       "      <th>0</th>\n",
       "      <th>1</th>\n",
       "      <th>2</th>\n",
       "    </tr>\n",
       "  </thead>\n",
       "  <tbody>\n",
       "    <tr>\n",
       "      <th>0</th>\n",
       "      <td>122.3</td>\n",
       "      <td>120.6</td>\n",
       "      <td>123.5</td>\n",
       "    </tr>\n",
       "    <tr>\n",
       "      <th>1</th>\n",
       "      <td>126.5</td>\n",
       "      <td>123.2</td>\n",
       "      <td>125.7</td>\n",
       "    </tr>\n",
       "    <tr>\n",
       "      <th>2</th>\n",
       "      <td>118.5</td>\n",
       "      <td>121.0</td>\n",
       "      <td>115.3</td>\n",
       "    </tr>\n",
       "    <tr>\n",
       "      <th>3</th>\n",
       "      <td>122.9</td>\n",
       "      <td>122.1</td>\n",
       "      <td>122.1</td>\n",
       "    </tr>\n",
       "    <tr>\n",
       "      <th>4</th>\n",
       "      <td>124.7</td>\n",
       "      <td>123.4</td>\n",
       "      <td>120.9</td>\n",
       "    </tr>\n",
       "  </tbody>\n",
       "</table>\n",
       "</div>"
      ],
      "text/plain": [
       "       0      1      2\n",
       "0  122.3  120.6  123.5\n",
       "1  126.5  123.2  125.7\n",
       "2  118.5  121.0  115.3\n",
       "3  122.9  122.1  122.1\n",
       "4  124.7  123.4  120.9"
      ]
     },
     "execution_count": 133,
     "metadata": {},
     "output_type": "execute_result"
    }
   ],
   "source": [
    "data = pd.read_excel('Mex6.xlsx', header=None)\n",
    "data.head()"
   ]
  },
  {
   "cell_type": "code",
   "execution_count": 134,
   "id": "8f981f64",
   "metadata": {},
   "outputs": [
    {
     "name": "stdout",
     "output_type": "stream",
     "text": [
      "[121.77327915   1.99989188   2.17788793]\n"
     ]
    }
   ],
   "source": [
    "def log_likelihood_function(x, data):\n",
    "    log_likelihood = 0\n",
    "    #Вектор мю\n",
    "    mu = [ x[0],x[0],x[0] ]\n",
    "    t2=x[1]*x[1]\n",
    "    s2=x[2]*x[2]\n",
    "    #Матрица ковариации\n",
    "    sigma = [ [t2+s2,t2,t2], [t2,t2+s2,t2], [t2,t2,t2+s2] ]\n",
    "    for point in data:\n",
    "        log_likelihood += multivariate_normal.logpdf(x=point, mean=mu, cov=sigma, allow_singular=True)\n",
    "    return -log_likelihood\n",
    "\n",
    "if __name__ == \"__main__\":\n",
    "    #Данные\n",
    "    some_data = data.values.tolist()\n",
    "    #Ограничения\n",
    "    bounds =[(None,None),(0.001,None),(0.001,None)]\n",
    "    #Стартовая точка\n",
    "    guess_init = [0,0,0] \n",
    "    result = minimize(fun = log_likelihood_function, args = some_data, x0 = guess_init, bounds=bounds, options = {'disp': True})\n",
    "\n",
    "    print(result.x)"
   ]
  },
  {
   "cell_type": "markdown",
   "id": "11543caf",
   "metadata": {},
   "source": [
    "# Второе задание"
   ]
  },
  {
   "cell_type": "code",
   "execution_count": 135,
   "id": "85d72a3f",
   "metadata": {},
   "outputs": [
    {
     "data": {
      "text/plain": [
       "2.364574214017684"
      ]
     },
     "execution_count": 135,
     "metadata": {},
     "output_type": "execute_result"
    }
   ],
   "source": [
    "row_mean_data = data.mean(axis=1).round(4)\n",
    "mu =row_mean_data.mean()\n",
    "s = row_mean_data.std()\n",
    "var = row_mean_data.var()\n",
    "s"
   ]
  },
  {
   "cell_type": "code",
   "execution_count": 136,
   "id": "64d60229",
   "metadata": {},
   "outputs": [],
   "source": [
    "stats.norm.fit(row_mean_data)\n",
    "smle = math.sqrt(result.x[1]**2+result.x[2]**2/3)\n",
    "tau = result.x[1]"
   ]
  },
  {
   "cell_type": "markdown",
   "id": "ad895e46",
   "metadata": {},
   "source": [
    "## Критерий Лиллиефорса"
   ]
  },
  {
   "cell_type": "code",
   "execution_count": 137,
   "id": "1966c341",
   "metadata": {},
   "outputs": [
    {
     "name": "stdout",
     "output_type": "stream",
     "text": [
      "(0.024548648129347816, 0.6931001355426669)\n"
     ]
    }
   ],
   "source": [
    "print(lilliefors(row_mean_data, dist='norm'))"
   ]
  },
  {
   "cell_type": "code",
   "execution_count": 138,
   "id": "0c5571d1",
   "metadata": {},
   "outputs": [],
   "source": [
    "pyplot.rcParams['figure.dpi'] = 130"
   ]
  },
  {
   "cell_type": "markdown",
   "id": "e00199c5",
   "metadata": {},
   "source": [
    "## ЭФР и ФР(функция распределения)"
   ]
  },
  {
   "cell_type": "code",
   "execution_count": 139,
   "id": "b4c8b0fe",
   "metadata": {},
   "outputs": [
    {
     "data": {
      "image/png": "[encoded data removed]",
      "text/plain": [
       "<Figure size 780x520 with 1 Axes>"
      ]
     },
     "metadata": {
      "needs_background": "light"
     },
     "output_type": "display_data"
    }
   ],
   "source": [
    "row=sorted(row_mean_data.values)\n",
    "ecdf=ECDF(row)\n",
    "fig, ax = pyplot.subplots()\n",
    "ax.plot(ecdf.x, ecdf.y,label='ЭФР')\n",
    "cdf = stats.norm.cdf(row, mu, smle)\n",
    "ax.plot(row,cdf,label='ФР')\n",
    "ax.legend()\n",
    "pyplot.grid(visible=True)\n",
    "pyplot.title('ECDF & CDF')\n",
    "pyplot.show()"
   ]
  },
  {
   "cell_type": "markdown",
   "id": "805678dc",
   "metadata": {},
   "source": [
    "## Ядерная оценка плотности(kernel = 'gaussian') и ФП(функция плотности)"
   ]
  },
  {
   "cell_type": "code",
   "execution_count": 140,
   "id": "4b3be1d6",
   "metadata": {},
   "outputs": [
    {
     "data": {
      "image/png": "[encoded data removed]",
      "text/plain": [
       "<Figure size 780x520 with 1 Axes>"
      ]
     },
     "metadata": {
      "needs_background": "light"
     },
     "output_type": "display_data"
    }
   ],
   "source": [
    "n = len(row_mean_data)\n",
    "row=sorted(row_mean_data.values)\n",
    "kde = stats.gaussian_kde(row,bw_method=\"silverman\")\n",
    "kde_res= kde.evaluate(row)\n",
    "#row=sorted(row_mean_data.values.reshape(-1, 1))\n",
    "#kde = KernelDensity(bandwidth=(4/(3*n))**(1/5)*s,kernel=\"epanechnikov\").fit(row)\n",
    "#kde_res=np.exp(kde.score_samples(row))\n",
    "ax.plot(row,kde_res, label = 'KDE')\n",
    "fig, ax = pyplot.subplots()\n",
    "ax.plot(row,kde_res, label = 'KDE')\n",
    "pdf_res = stats.norm.pdf(row,mu,s)\n",
    "ax.plot(row,pdf_res, label = 'PDF')\n",
    "ax.legend()\n",
    "pyplot.grid(visible=True)\n",
    "pyplot.title('KDE(kernel-gaussian, bw-silverman) & PDF')\n",
    "pyplot.show()"
   ]
  },
  {
   "cell_type": "markdown",
   "id": "64ff1e6c",
   "metadata": {},
   "source": [
    "# Третье задание"
   ]
  },
  {
   "cell_type": "markdown",
   "id": "3a8ba28c",
   "metadata": {},
   "source": [
    "## Заводской критерий"
   ]
  },
  {
   "cell_type": "code",
   "execution_count": 160,
   "id": "be3d4779",
   "metadata": {},
   "outputs": [],
   "source": [
    "from scipy import integrate\n",
    "alpha = 1e-5\n",
    "theta_zero = 117\n",
    "start = 110\n",
    "end = 130"
   ]
  },
  {
   "cell_type": "code",
   "execution_count": 161,
   "id": "e1a15338",
   "metadata": {},
   "outputs": [],
   "source": [
    "def integral1(y, crit, sigma, tau, n):\n",
    "    return ((1 - stats.norm.cdf(crit, y, sigma))**n) * stats.norm.pdf(y,mu,tau) \n",
    "def integral0(y, crit, sigma, tau, n):\n",
    "    return (1 - (1 - stats.norm.cdf(crit, y, sigma))**n) * stats.norm.pdf(y,mu,tau)"
   ]
  },
  {
   "cell_type": "code",
   "execution_count": 162,
   "id": "3be9fa77",
   "metadata": {},
   "outputs": [],
   "source": [
    "def R1(crit, sigma, tau, n):\n",
    "    znam, err = integrate.quad(integral1, start, end, args = (crit, sigma, tau, n))\n",
    "    chisl, err = integrate.quad(integral1, start, theta_zero, args = (crit, sigma, tau, n))\n",
    "    return chisl/znam - alpha\n",
    "def R0(crit, sigma, tau, n):\n",
    "    znam, err = integrate.quad(integral0, start, end, args = (crit, sigma, tau, n))\n",
    "    chisl, err = integrate.quad(integral0, start, theta_zero, args = (crit, sigma, tau, n))\n",
    "    return chisl/znam"
   ]
  },
  {
   "cell_type": "code",
   "execution_count": 163,
   "id": "0700664b",
   "metadata": {},
   "outputs": [
    {
     "name": "stdout",
     "output_type": "stream",
     "text": [
      "0.01679624023898432\n",
      "9.9999999999975e-06\n"
     ]
    },
    {
     "data": {
      "text/plain": [
       "119.83948015351292"
      ]
     },
     "execution_count": 163,
     "metadata": {},
     "output_type": "execute_result"
    }
   ],
   "source": [
    "n = 3\n",
    "root = brentq(R1, start, end, args=(smle,tau,n), xtol=2e-12, rtol=8.881784197001252e-16, maxiter=100, full_output=False, disp=True)\n",
    "print(R0(root,smle,tau,n))\n",
    "print(R1(root,smle,tau,n) + alpha)\n",
    "root"
   ]
  },
  {
   "cell_type": "code",
   "execution_count": 164,
   "id": "a74d3218",
   "metadata": {},
   "outputs": [
    {
     "name": "stdout",
     "output_type": "stream",
     "text": [
      "0.12011203488669808\n",
      "9.999999999999604e-06\n"
     ]
    },
    {
     "data": {
      "text/plain": [
       "110.91632169410084"
      ]
     },
     "execution_count": 164,
     "metadata": {},
     "output_type": "execute_result"
    }
   ],
   "source": [
    "n = 1000\n",
    "root = brentq(R1, start, end, args=(smle,tau,n), xtol=2e-12, rtol=8.881784197001252e-16, maxiter=100, full_output=False, disp=True)\n",
    "print(R0(root,smle,tau,n))\n",
    "print(R1(root,smle,tau,n) + alpha)\n",
    "root"
   ]
  },
  {
   "cell_type": "markdown",
   "id": "2e14d19a",
   "metadata": {},
   "source": [
    "## Оптимальный критерий"
   ]
  },
  {
   "cell_type": "code",
   "execution_count": 165,
   "id": "ae22b95a",
   "metadata": {},
   "outputs": [],
   "source": [
    "def opt_integral1_chisl(y, crit, sigma, tau, n):\n",
    "    return (1 - stats.norm.cdf(crit, y, sigma/np.sqrt(n))) * stats.norm.pdf(y,mu,tau)\n",
    "def opt_1_znam(crit, mu, d):\n",
    "    return (1 - stats.norm.cdf(crit, mu, d))\n",
    "def opt_integral0_chisl(y, crit, sigma, tau, n):\n",
    "    return (1 - (1 - stats.norm.cdf(crit, y, sigma/np.sqrt(n)))) * stats.norm.pdf(y,mu,tau)\n",
    "def opt_0_znam(crit, mu, d):\n",
    "    return 1 - (1 - stats.norm.cdf(crit, mu, d))\n",
    "\n",
    "#def opt_integral1(y, crit, sigma, tau, n):\n",
    "#    return (1 - stats.norm.cdf(crit, y, sigma/np.sqrt(n))) * stats.norm.pdf(y,mu,tau)\n",
    "#def opt_integral0(y, crit, sigma, tau, n):\n",
    "#    return (1 - (1 - stats.norm.cdf(crit, y, sigma/np.sqrt(n)))) * stats.norm.pdf(y,mu,tau)"
   ]
  },
  {
   "cell_type": "code",
   "execution_count": 166,
   "id": "1958f1e1",
   "metadata": {},
   "outputs": [],
   "source": [
    "def R1(crit, sigma, tau, n):\n",
    "    znam  = opt_1_znam(crit, mu, np.sqrt(tau**2 + sigma**2/n))\n",
    "    chisl, err = integrate.quad(opt_integral1_chisl, start, theta_zero, args = (crit, sigma, tau, n))\n",
    "    return chisl/znam - alpha\n",
    "def R0(crit, sigma, tau, n):\n",
    "    znam = opt_0_znam(crit, mu, np.sqrt(tau**2 + sigma**2/n))\n",
    "    chisl, err = integrate.quad(opt_integral0_chisl, start, theta_zero, args = (crit, sigma, tau, n))\n",
    "    return chisl/znam"
   ]
  },
  {
   "cell_type": "code",
   "execution_count": 171,
   "id": "d2dd405e",
   "metadata": {},
   "outputs": [
    {
     "name": "stdout",
     "output_type": "stream",
     "text": [
      "0.015805654028134462\n",
      "1.0000000000000307e-05\n"
     ]
    },
    {
     "data": {
      "text/plain": [
       "122.01791243663995"
      ]
     },
     "execution_count": 171,
     "metadata": {},
     "output_type": "execute_result"
    }
   ],
   "source": [
    "n = 3\n",
    "root = brentq(R1, start, end, args=(smle,tau,n), xtol=2e-12, rtol=8.881784197001252e-16, maxiter=100, full_output=False, disp=True)\n",
    "print(R0(root,smle,tau,n))\n",
    "print(R1(root,smle,tau,n) + alpha)\n",
    "root"
   ]
  },
  {
   "cell_type": "code",
   "execution_count": 170,
   "id": "f39d1b9b",
   "metadata": {},
   "outputs": [
    {
     "name": "stdout",
     "output_type": "stream",
     "text": [
      "0.19829219800746783\n",
      "1.0000000000017316e-05\n"
     ]
    },
    {
     "data": {
      "text/plain": [
       "118.23279933359701"
      ]
     },
     "execution_count": 170,
     "metadata": {},
     "output_type": "execute_result"
    }
   ],
   "source": [
    "n = 320\n",
    "root = brentq(R1, start, end, args=(smle,tau,n), xtol=2e-12, rtol=8.881784197001252e-16, maxiter=100, full_output=False, disp=True)\n",
    "print(R0(root,smle,tau,n))\n",
    "print(R1(root,smle,tau,n) + alpha)\n",
    "root"
   ]
  },
  {
   "cell_type": "code",
   "execution_count": null,
   "id": "62969dff",
   "metadata": {},
   "outputs": [],
   "source": []
  },
  {
   "cell_type": "code",
   "execution_count": null,
   "id": "2dd398c8",
   "metadata": {},
   "outputs": [],
   "source": []
  }
 ],
 "metadata": {
  "kernelspec": {
   "display_name": "Python 3 (ipykernel)",
   "language": "python",
   "name": "python3"
  },
  "language_info": {
   "codemirror_mode": {
    "name": "ipython",
    "version": 3
   },
   "file_extension": ".py",
   "mimetype": "text/x-python",
   "name": "python",
   "nbconvert_exporter": "python",
   "pygments_lexer": "ipython3",
   "version": "3.9.7"
  },
  "toc": {
   "base_numbering": 1,
   "nav_menu": {},
   "number_sections": true,
   "sideBar": true,
   "skip_h1_title": false,
   "title_cell": "Table of Contents",
   "title_sidebar": "Contents",
   "toc_cell": false,
   "toc_position": {
    "height": "calc(100% - 180px)",
    "left": "10px",
    "top": "150px",
    "width": "165px"
   },
   "toc_section_display": true,
   "toc_window_display": true
  },
  "varInspector": {
   "cols": {
    "lenName": 16,
    "lenType": 16,
    "lenVar": 40
   },
   "kernels_config": {
    "python": {
     "delete_cmd_postfix": "",
     "delete_cmd_prefix": "del ",
     "library": "var_list.py",
     "varRefreshCmd": "print(var_dic_list())"
    },
    "r": {
     "delete_cmd_postfix": ") ",
     "delete_cmd_prefix": "rm(",
     "library": "var_list.r",
     "varRefreshCmd": "cat(var_dic_list()) "
    }
   },
   "position": {
    "height": "272.844px",
    "left": "986px",
    "right": "20px",
    "top": "302px",
    "width": "358px"
   },
   "types_to_exclude": [
    "module",
    "function",
    "builtin_function_or_method",
    "instance",
    "_Feature"
   ],
   "window_display": true
  }
 },
 "nbformat": 4,
 "nbformat_minor": 5
}
