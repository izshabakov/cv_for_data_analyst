{
 "cells": [
  {
   "cell_type": "markdown",
   "id": "e14b1773",
   "metadata": {},
   "source": [
    "# Импорт библиотек"
   ]
  },
  {
   "cell_type": "code",
   "execution_count": 57,
   "id": "61a263bc",
   "metadata": {},
   "outputs": [],
   "source": [
    "import pandas as pd\n",
    "import numpy as np\n",
    "import scipy.stats as sps"
   ]
  },
  {
   "cell_type": "markdown",
   "id": "6de388e1",
   "metadata": {},
   "source": [
    "# Чтение данных"
   ]
  },
  {
   "cell_type": "code",
   "execution_count": 58,
   "id": "c9b1527b",
   "metadata": {
    "scrolled": true
   },
   "outputs": [
    {
     "data": {
      "text/plain": [
       "count    4.000000e+02\n",
       "mean     2.624943e+04\n",
       "std      4.373773e+05\n",
       "min      8.300000e+01\n",
       "25%      1.369550e+02\n",
       "50%      2.591150e+02\n",
       "75%      5.024050e+02\n",
       "max      8.670000e+06\n",
       "Name: <CLOSE>, dtype: float64"
      ]
     },
     "execution_count": 58,
     "metadata": {},
     "output_type": "execute_result"
    }
   ],
   "source": [
    "pdf = pd.read_csv('eth.csv').head(400)['<CLOSE>']\n",
    "data = pdf.to_numpy()\n",
    "pdf.describe()"
   ]
  },
  {
   "cell_type": "markdown",
   "id": "a5faf65a",
   "metadata": {},
   "source": [
    "# Интерполяций C-критического"
   ]
  },
  {
   "cell_type": "code",
   "execution_count": 59,
   "id": "9b11c3f5",
   "metadata": {},
   "outputs": [],
   "source": [
    "n = len(data)\n",
    "xp = [1, 2, 3, 10, 20, 30, 50, 100, 400]\n",
    "yp = [2, 2.8, 2.2, 1.5, 1.3, 1.2, 1.1, 1, 0.9]\n",
    "Crit = np.interp(n, xp, yp)"
   ]
  },
  {
   "cell_type": "markdown",
   "id": "45fb84e8",
   "metadata": {},
   "source": [
    "# Проверка гипотезы H0"
   ]
  },
  {
   "cell_type": "code",
   "execution_count": 60,
   "id": "bcd255a3",
   "metadata": {
    "scrolled": true
   },
   "outputs": [
    {
     "data": {
      "text/plain": [
       "array([9.74990000e+02, 9.12410000e+02, 9.39010000e+02, 8.84760000e+02,\n",
       "       8.40000340e+05, 8.06000000e+02, 8.54010000e+02, 8.33200000e+02,\n",
       "       8.41960000e+02, 8.67000009e+06, 8.71070000e+02, 8.49990000e+02,\n",
       "       8.68740000e+02, 8.54310000e+02, 8.54000340e+05])"
      ]
     },
     "execution_count": 60,
     "metadata": {},
     "output_type": "execute_result"
    }
   ],
   "source": [
    "data[0:15]"
   ]
  },
  {
   "cell_type": "code",
   "execution_count": 61,
   "id": "ac492a35",
   "metadata": {},
   "outputs": [],
   "source": [
    "s = np.sqrt(1/(len(data)-1) * np.sum(np.power(data - data.mean(),2)))\n",
    "I_emp = np.zeros(n)\n",
    "for i in range(1,n):\n",
    "    I_emp[i] = np.abs(data[i]-data[i-1])/s\n",
    "    if I_emp[i] > Crit:\n",
    "        if i != n-1:\n",
    "            data[i] = (data[i-1] + data[i+1])/2\n",
    "        else:\n",
    "            data[i] = (data[i] + data[i-1])/2\n",
    "        #I_emp[i-1] = np.abs(data[i]-data[i-1])/s\n"
   ]
  },
  {
   "cell_type": "code",
   "execution_count": 62,
   "id": "039a007a",
   "metadata": {},
   "outputs": [
    {
     "data": {
      "text/plain": [
       "[4, 9, 14]"
      ]
     },
     "execution_count": 62,
     "metadata": {},
     "output_type": "execute_result"
    }
   ],
   "source": [
    "[i for i, v in enumerate(I_emp > 0.9) if v == True]"
   ]
  },
  {
   "cell_type": "code",
   "execution_count": 63,
   "id": "fb811821",
   "metadata": {},
   "outputs": [
    {
     "data": {
      "text/plain": [
       "array([974.99 , 912.41 , 939.01 , 884.76 , 845.38 , 806.   , 854.01 ,\n",
       "       833.2  , 841.96 , 856.515, 871.07 , 849.99 , 868.74 , 854.31 ,\n",
       "       858.025])"
      ]
     },
     "execution_count": 63,
     "metadata": {},
     "output_type": "execute_result"
    }
   ],
   "source": [
    "data[0:15]"
   ]
  },
  {
   "cell_type": "markdown",
   "id": "11433fc7",
   "metadata": {},
   "source": [
    "# Второе задание"
   ]
  },
  {
   "cell_type": "code",
   "execution_count": 64,
   "id": "08c416a9",
   "metadata": {},
   "outputs": [],
   "source": [
    "pdf2 = pd.read_csv('eth.csv')['<CLOSE>']\n",
    "data2 = pdf2.to_numpy()\n",
    "n = len(data2)\n",
    "first = data2[0:int(n/2)]\n",
    "second = data2[int(n/2 + 1):n]"
   ]
  },
  {
   "cell_type": "code",
   "execution_count": 65,
   "id": "c8152303",
   "metadata": {},
   "outputs": [
    {
     "name": "stdout",
     "output_type": "stream",
     "text": [
      "D первой половины 104584449259.04079\n",
      "D второй половины 2059671.6423114098\n"
     ]
    }
   ],
   "source": [
    "print('D первой половины', first.var())\n",
    "print('D второй половины', second.var())"
   ]
  },
  {
   "cell_type": "code",
   "execution_count": 66,
   "id": "d77f38b9",
   "metadata": {},
   "outputs": [],
   "source": [
    "import statistics\n",
    "med = statistics.median(data2)\n",
    "pm = (data2 > med)\n",
    "series_counter = 1\n",
    "length_counter = 1\n",
    "buf = 1\n",
    "for i in range(n-1):\n",
    "    if (pm[i] == True and pm[i+1] == True) or (pm[i] == False and pm[i+1] == False):  \n",
    "        buf += 1\n",
    "    if (pm[i] == True and pm[i+1] == False) or (pm[i] == False and pm[i+1] == True):\n",
    "        if buf > length_counter:\n",
    "            length_counter = buf\n",
    "        buf = 1\n",
    "        series_counter+=1"
   ]
  },
  {
   "cell_type": "code",
   "execution_count": 67,
   "id": "ae4146a2",
   "metadata": {},
   "outputs": [
    {
     "name": "stdout",
     "output_type": "stream",
     "text": [
      "v: 13\n",
      "t: 722\n"
     ]
    }
   ],
   "source": [
    "print('v:', series_counter)\n",
    "print('t:', length_counter)"
   ]
  },
  {
   "cell_type": "code",
   "execution_count": 68,
   "id": "763b0441",
   "metadata": {},
   "outputs": [
    {
     "name": "stdout",
     "output_type": "stream",
     "text": [
      "v =  13 > 694 False\n",
      "t = 722 < 10 False\n",
      "H0(неизменность среднего) отвергается\n"
     ]
    }
   ],
   "source": [
    "a = int(1/2 * ((n + 2) - 1.96 * np.sqrt(n - 1)))\n",
    "b = int(1.43 * np.log(n + 1))\n",
    "print('v = ', series_counter, '>', a, series_counter > a)\n",
    "print('t =', length_counter, '<', b, length_counter < b)\n",
    "\n",
    "if (series_counter > a and length_counter < b):\n",
    "  print('H0(неизменность среднего) приниматеся')\n",
    "else:\n",
    "  print('H0(неизменность среднего) отвергается')"
   ]
  },
  {
   "cell_type": "code",
   "execution_count": null,
   "id": "30010a01",
   "metadata": {},
   "outputs": [],
   "source": []
  }
 ],
 "metadata": {
  "kernelspec": {
   "display_name": "Python 3 (ipykernel)",
   "language": "python",
   "name": "python3"
  },
  "language_info": {
   "codemirror_mode": {
    "name": "ipython",
    "version": 3
   },
   "file_extension": ".py",
   "mimetype": "text/x-python",
   "name": "python",
   "nbconvert_exporter": "python",
   "pygments_lexer": "ipython3",
   "version": "3.9.7"
  },
  "toc": {
   "base_numbering": 1,
   "nav_menu": {},
   "number_sections": true,
   "sideBar": true,
   "skip_h1_title": false,
   "title_cell": "Table of Contents",
   "title_sidebar": "Contents",
   "toc_cell": false,
   "toc_position": {},
   "toc_section_display": true,
   "toc_window_display": false
  },
  "varInspector": {
   "cols": {
    "lenName": 16,
    "lenType": 16,
    "lenVar": 40
   },
   "kernels_config": {
    "python": {
     "delete_cmd_postfix": "",
     "delete_cmd_prefix": "del ",
     "library": "var_list.py",
     "varRefreshCmd": "print(var_dic_list())"
    },
    "r": {
     "delete_cmd_postfix": ") ",
     "delete_cmd_prefix": "rm(",
     "library": "var_list.r",
     "varRefreshCmd": "cat(var_dic_list()) "
    }
   },
   "position": {
    "height": "287.844px",
    "left": "1002px",
    "right": "20px",
    "top": "136px",
    "width": "350px"
   },
   "types_to_exclude": [
    "module",
    "function",
    "builtin_function_or_method",
    "instance",
    "_Feature"
   ],
   "window_display": true
  }
 },
 "nbformat": 4,
 "nbformat_minor": 5
}
