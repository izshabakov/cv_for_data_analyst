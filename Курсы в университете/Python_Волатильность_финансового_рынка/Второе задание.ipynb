{
 "cells": [
  {
   "cell_type": "markdown",
   "metadata": {
    "id": "OTwFS-mi_Za8"
   },
   "source": [
    "## Задание 2. Выявление аномальных данных и неслучайных компонент."
   ]
  },
  {
   "cell_type": "code",
   "execution_count": 6,
   "metadata": {
    "id": "mb1VDqe6MsJB"
   },
   "outputs": [],
   "source": [
    "import pandas as pd\n",
    "import numpy as np\n",
    "from statistics import mean, variance, median\n",
    "import math"
   ]
  },
  {
   "cell_type": "markdown",
   "metadata": {
    "id": "xDuRKuLKbEDZ"
   },
   "source": [
    "### Метод Ирвина для поиска аномальных данных."
   ]
  },
  {
   "cell_type": "code",
   "execution_count": 7,
   "metadata": {
    "colab": {
     "base_uri": "https://localhost:8080/"
    },
    "id": "N3DnRRelN8ub",
    "outputId": "50325802-0081-48a4-f4b1-167185103893"
   },
   "outputs": [
    {
     "name": "stdout",
     "output_type": "stream",
     "text": [
      "n = 1462\n",
      "mean = 8090.0035875512995\n",
      "S² = 52369543229.50188\n",
      "S = 228843.92766578245\n",
      "Iкрит. = 0.8\n",
      "Аномальные данные:\n",
      "5 : 840000.34\n",
      "10 : 8670000.09\n",
      "15 : 854000.34\n"
     ]
    }
   ],
   "source": [
    "google_data = pd.read_csv('eth.csv')\n",
    "x = google_data['<CLOSE>'].values\n",
    "\n",
    "n = len(x)\n",
    "M = mean(x)\n",
    "S2 = variance(x)\n",
    "S = math.sqrt(S2)\n",
    "print('n =', n)\n",
    "print('mean =', M)\n",
    "print('S² =', S2)\n",
    "print('S =', S)\n",
    "\n",
    "xp = [1, 2, 3, 10, 20, 30, 50, 100, 400, 1000]\n",
    "fp = [2, 2.8, 2.2, 1.5, 1.3, 1.2, 1.1, 1, 0.9, 0.8]\n",
    "crit = np.interp(n, xp, fp)\n",
    "print('Iкрит. =', crit)\n",
    "\n",
    "print('Аномальные данные:')\n",
    "I = list(range(0, n)) \n",
    "I[0] = 0\n",
    "hasAbn = False\n",
    "for i in range(1, n):\n",
    "  I[i] = abs(x[i] - x[i - 1]) / S\n",
    "  if (I[i] > crit):\n",
    "    print(i + 1, ':', x[i])\n",
    "    if(i != n - 1):\n",
    "      x[i] = (x[i + 1] + x[i - 1]) / 2\n",
    "    else:\n",
    "      x[i] = (x[i] + x[i - 1]) / 2\n",
    "    hasAbn = True  \n",
    "if (hasAbn == False):\n",
    "  print('Аномальных данных не наблюдается')  "
   ]
  },
  {
   "cell_type": "markdown",
   "metadata": {
    "id": "AxExaPgvbOt0"
   },
   "source": [
    "### Метод серий для проверки гипотезы о наличии неслучайных компонент."
   ]
  },
  {
   "cell_type": "code",
   "execution_count": 8,
   "metadata": {
    "id": "_A9LoPmToDE-"
   },
   "outputs": [],
   "source": [
    "def series_and_max_len (str):\n",
    "  max_len = 0\n",
    "  current_char = str[0]\n",
    "  count = 1\n",
    "  count_series = 1\n",
    "  n = len(str)\n",
    "  for i in range(1, n):\n",
    "    if(str[i] == current_char):\n",
    "      count += 1\n",
    "    else:\n",
    "      count_series += 1\n",
    "      if(max_len < count):\n",
    "        max_len = count\n",
    "      current_char = str[i]\n",
    "      count = 1\n",
    "  if(max_len < count):\n",
    "    max_len = count\n",
    "  return count_series, max_len"
   ]
  },
  {
   "cell_type": "code",
   "execution_count": 9,
   "metadata": {
    "colab": {
     "base_uri": "https://localhost:8080/"
    },
    "id": "rVK7-YM-bTZx",
    "outputId": "41c8a34e-b26b-4612-a850-a8ef8a3cb853"
   },
   "outputs": [
    {
     "name": "stdout",
     "output_type": "stream",
     "text": [
      "n = 1462\n",
      "median = 348.0\n",
      "v(n) =  13 > 695 False\n",
      "τ(n) = 722 < 10 False\n",
      "Гипотеза о неизменности среднего отвергается\n"
     ]
    }
   ],
   "source": [
    "google_data = pd.read_csv('eth.csv')\n",
    "x = google_data['<CLOSE>'].values\n",
    "\n",
    "n = len(x)\n",
    "med = median(x)\n",
    "print('n =', n)\n",
    "print('median =', med)\n",
    "\n",
    "v = ''\n",
    "for i in range(n):\n",
    "  if (x[i] > med):\n",
    "    v += '+'\n",
    "  if (x[i] < med):\n",
    "    v += '-'  \n",
    "    \n",
    "v_n, tau_n = series_and_max_len(v)\n",
    "a = round(1/2 * ((n + 2) - 1.96 * math.sqrt(n - 1)))\n",
    "b = round(1.43 * math.log(n + 1))\n",
    "print('v(n) = ', v_n, '>', a, v_n > a)\n",
    "print('τ(n) =', tau_n, '<', b, tau_n < b)\n",
    "\n",
    "if (v_n > a and tau_n < b):\n",
    "  print('Гипотеза не отвергается')\n",
    "else:\n",
    "  print('Гипотеза о неизменности среднего отвергается')"
   ]
  },
  {
   "cell_type": "code",
   "execution_count": null,
   "metadata": {},
   "outputs": [],
   "source": []
  },
  {
   "cell_type": "code",
   "execution_count": null,
   "metadata": {},
   "outputs": [],
   "source": []
  }
 ],
 "metadata": {
  "colab": {
   "name": "Task_2.ipynb",
   "provenance": []
  },
  "kernelspec": {
   "display_name": "Python 3 (ipykernel)",
   "language": "python",
   "name": "python3"
  },
  "language_info": {
   "codemirror_mode": {
    "name": "ipython",
    "version": 3
   },
   "file_extension": ".py",
   "mimetype": "text/x-python",
   "name": "python",
   "nbconvert_exporter": "python",
   "pygments_lexer": "ipython3",
   "version": "3.9.7"
  },
  "toc": {
   "base_numbering": 1,
   "nav_menu": {},
   "number_sections": true,
   "sideBar": true,
   "skip_h1_title": false,
   "title_cell": "Table of Contents",
   "title_sidebar": "Contents",
   "toc_cell": false,
   "toc_position": {},
   "toc_section_display": true,
   "toc_window_display": false
  },
  "varInspector": {
   "cols": {
    "lenName": 16,
    "lenType": 16,
    "lenVar": 40
   },
   "kernels_config": {
    "python": {
     "delete_cmd_postfix": "",
     "delete_cmd_prefix": "del ",
     "library": "var_list.py",
     "varRefreshCmd": "print(var_dic_list())"
    },
    "r": {
     "delete_cmd_postfix": ") ",
     "delete_cmd_prefix": "rm(",
     "library": "var_list.r",
     "varRefreshCmd": "cat(var_dic_list()) "
    }
   },
   "types_to_exclude": [
    "module",
    "function",
    "builtin_function_or_method",
    "instance",
    "_Feature"
   ],
   "window_display": false
  }
 },
 "nbformat": 4,
 "nbformat_minor": 1
}
