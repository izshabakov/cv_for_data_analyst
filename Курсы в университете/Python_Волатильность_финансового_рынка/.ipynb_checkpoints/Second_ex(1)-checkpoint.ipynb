{
 "cells": [
  {
   "cell_type": "code",
   "execution_count": 2,
   "id": "61a263bc",
   "metadata": {},
   "outputs": [],
   "source": [
    "import pandas as pd\n",
    "import numpy as np\n",
    "import scipy.stats as sps"
   ]
  },
  {
   "cell_type": "code",
   "execution_count": 3,
   "id": "c9b1527b",
   "metadata": {
    "scrolled": true
   },
   "outputs": [
    {
     "data": {
      "text/plain": [
       "count    4.000000e+02\n",
       "mean     2.624943e+04\n",
       "std      4.373773e+05\n",
       "min      8.300000e+01\n",
       "25%      1.369550e+02\n",
       "50%      2.591150e+02\n",
       "75%      5.024050e+02\n",
       "max      8.670000e+06\n",
       "Name: <CLOSE>, dtype: float64"
      ]
     },
     "execution_count": 3,
     "metadata": {},
     "output_type": "execute_result"
    }
   ],
   "source": [
    "pdf = pd.read_csv('eth.csv').head(400)['<CLOSE>']\n",
    "data = pdf.to_numpy()\n",
    "pdf.describe()"
   ]
  },
  {
   "cell_type": "code",
   "execution_count": 37,
   "id": "a4086343",
   "metadata": {},
   "outputs": [],
   "source": [
    "n = len(data)\n",
    "xp = [1, 2, 3, 10, 20, 30, 50, 100, 400]\n",
    "yp = [2, 2.8, 2.2, 1.5, 1.3, 1.2, 1.1, 1, 0.9]\n",
    "Crit = np.interp(n, xp, yp)"
   ]
  },
  {
   "cell_type": "code",
   "execution_count": 38,
   "id": "bc4b7abe",
   "metadata": {
    "scrolled": false
   },
   "outputs": [
    {
     "data": {
      "text/plain": [
       "array([9.74990000e+02, 9.12410000e+02, 9.39010000e+02, 8.84760000e+02,\n",
       "       8.40000340e+05, 8.06000000e+02, 8.54010000e+02, 8.33200000e+02,\n",
       "       8.41960000e+02, 8.67000009e+06, 8.71070000e+02, 8.49990000e+02,\n",
       "       8.68740000e+02, 8.54310000e+02, 8.54000340e+05, 8.61740000e+02,\n",
       "       8.48830000e+02, 8.15430000e+02, 7.51380000e+02, 6.98830000e+02])"
      ]
     },
     "execution_count": 38,
     "metadata": {},
     "output_type": "execute_result"
    }
   ],
   "source": [
    "data[0:20]"
   ]
  },
  {
   "cell_type": "code",
   "execution_count": 39,
   "id": "d2ec489e",
   "metadata": {},
   "outputs": [],
   "source": [
    "s = np.sqrt(1/(len(data)-1) * np.sum(np.power(data - data.mean(),2)))\n",
    "I_emp = np.zeros(n)\n",
    "j=0;\n",
    "for i in range(1,n):\n",
    "    I_emp[i] = np.abs(data[i]-data[i-1])/s\n",
    "    if I_emp[i] > Crit:\n",
    "        j=j+1\n",
    "        if i != n-1:\n",
    "            data[i] = (data[i-1] + data[i+1])/2\n",
    "        else:\n",
    "            data[i] = (data[i] + data[i-1])/2\n",
    "        #I_emp[i-1] = np.abs(data[i]-data[i-1])/s\n"
   ]
  },
  {
   "cell_type": "code",
   "execution_count": 40,
   "id": "88e670e0",
   "metadata": {},
   "outputs": [
    {
     "data": {
      "text/plain": [
       "[4, 9, 14]"
      ]
     },
     "execution_count": 40,
     "metadata": {},
     "output_type": "execute_result"
    }
   ],
   "source": [
    "[i for i, v in enumerate(I_emp > 0.9) if v == True]"
   ]
  },
  {
   "cell_type": "code",
   "execution_count": 41,
   "id": "19250ac3",
   "metadata": {},
   "outputs": [
    {
     "data": {
      "text/plain": [
       "array([974.99 , 912.41 , 939.01 , 884.76 , 845.38 , 806.   , 854.01 ,\n",
       "       833.2  , 841.96 , 856.515, 871.07 , 849.99 , 868.74 , 854.31 ,\n",
       "       858.025, 861.74 , 848.83 , 815.43 , 751.38 , 698.83 ])"
      ]
     },
     "execution_count": 41,
     "metadata": {},
     "output_type": "execute_result"
    }
   ],
   "source": [
    "data[0:20]"
   ]
  },
  {
   "cell_type": "code",
   "execution_count": null,
   "id": "29d8c70a",
   "metadata": {},
   "outputs": [],
   "source": []
  },
  {
   "cell_type": "code",
   "execution_count": 45,
   "id": "31cc205e",
   "metadata": {},
   "outputs": [
    {
     "data": {
      "text/plain": [
       "array([ 974.99,  912.41,  939.01, ..., 3186.24, 3124.45, 3010.62])"
      ]
     },
     "execution_count": 45,
     "metadata": {},
     "output_type": "execute_result"
    }
   ],
   "source": [
    "pdf2 = pd.read_csv('eth.csv')['<CLOSE>']\n",
    "data2 = pdf2.to_numpy()\n",
    "n = len(data2)\n",
    "first = data2[0:730]\n",
    "second = data2[731:n]\n",
    "data2"
   ]
  },
  {
   "cell_type": "code",
   "execution_count": 43,
   "id": "0b333655",
   "metadata": {},
   "outputs": [
    {
     "data": {
      "text/plain": [
       "104727439675.06697"
      ]
     },
     "execution_count": 43,
     "metadata": {},
     "output_type": "execute_result"
    }
   ],
   "source": [
    "first.var()"
   ]
  },
  {
   "cell_type": "code",
   "execution_count": 42,
   "id": "5fdf248f",
   "metadata": {},
   "outputs": [
    {
     "data": {
      "text/plain": [
       "2059715.2396957783"
      ]
     },
     "execution_count": 42,
     "metadata": {},
     "output_type": "execute_result"
    }
   ],
   "source": [
    "second.var()"
   ]
  },
  {
   "cell_type": "code",
   "execution_count": 52,
   "id": "c84a54d6",
   "metadata": {},
   "outputs": [],
   "source": [
    "import statistics\n",
    "med = statistics.median(data2)\n",
    "pm = (data2 > med)\n",
    "series_counter = 0\n",
    "length_counter = 1;\n",
    "buf = 1\n",
    "for i in range(n-1):\n",
    "    if (pm[i] == True and pm[i+1] == True) or (pm[i] == False and pm[i+1] == False):\n",
    "        buf += 1\n",
    "    if (pm[i] == True and pm[i+1] == False) or (pm[i] == False and pm[i+1] == True):\n",
    "        if buf > length_counter:\n",
    "            length_counter = buf\n",
    "        buf = 1\n",
    "        series_counter+=1\n",
    "        if i == n-1:\n",
    "            series_counter+=1\n"
   ]
  },
  {
   "cell_type": "code",
   "execution_count": 53,
   "id": "841914d8",
   "metadata": {},
   "outputs": [
    {
     "data": {
      "text/plain": [
       "12"
      ]
     },
     "execution_count": 53,
     "metadata": {},
     "output_type": "execute_result"
    }
   ],
   "source": [
    "series_counter"
   ]
  },
  {
   "cell_type": "code",
   "execution_count": 54,
   "id": "f672c7f7",
   "metadata": {},
   "outputs": [
    {
     "data": {
      "text/plain": [
       "722"
      ]
     },
     "execution_count": 54,
     "metadata": {},
     "output_type": "execute_result"
    }
   ],
   "source": [
    "length_counter"
   ]
  },
  {
   "cell_type": "code",
   "execution_count": 44,
   "id": "98122b53",
   "metadata": {},
   "outputs": [
    {
     "data": {
      "text/plain": [
       "array([ True,  True,  True, ...,  True,  True,  True])"
      ]
     },
     "execution_count": 44,
     "metadata": {},
     "output_type": "execute_result"
    }
   ],
   "source": [
    "plus_minus"
   ]
  },
  {
   "cell_type": "code",
   "execution_count": null,
   "id": "2ff00912",
   "metadata": {},
   "outputs": [],
   "source": []
  }
 ],
 "metadata": {
  "kernelspec": {
   "display_name": "Python 3 (ipykernel)",
   "language": "python",
   "name": "python3"
  },
  "language_info": {
   "codemirror_mode": {
    "name": "ipython",
    "version": 3
   },
   "file_extension": ".py",
   "mimetype": "text/x-python",
   "name": "python",
   "nbconvert_exporter": "python",
   "pygments_lexer": "ipython3",
   "version": "3.9.7"
  },
  "toc": {
   "base_numbering": 1,
   "nav_menu": {},
   "number_sections": true,
   "sideBar": true,
   "skip_h1_title": false,
   "title_cell": "Table of Contents",
   "title_sidebar": "Contents",
   "toc_cell": false,
   "toc_position": {},
   "toc_section_display": true,
   "toc_window_display": false
  },
  "varInspector": {
   "cols": {
    "lenName": 16,
    "lenType": 16,
    "lenVar": 40
   },
   "kernels_config": {
    "python": {
     "delete_cmd_postfix": "",
     "delete_cmd_prefix": "del ",
     "library": "var_list.py",
     "varRefreshCmd": "print(var_dic_list())"
    },
    "r": {
     "delete_cmd_postfix": ") ",
     "delete_cmd_prefix": "rm(",
     "library": "var_list.r",
     "varRefreshCmd": "cat(var_dic_list()) "
    }
   },
   "types_to_exclude": [
    "module",
    "function",
    "builtin_function_or_method",
    "instance",
    "_Feature"
   ],
   "window_display": false
  }
 },
 "nbformat": 4,
 "nbformat_minor": 5
}
