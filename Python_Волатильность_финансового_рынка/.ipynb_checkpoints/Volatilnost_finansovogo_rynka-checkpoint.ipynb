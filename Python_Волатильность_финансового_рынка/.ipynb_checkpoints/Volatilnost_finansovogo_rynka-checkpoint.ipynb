{
 "cells": [
  {
   "cell_type": "code",
   "execution_count": 20,
   "metadata": {
    "pycharm": {
     "name": "#%%\n"
    }
   },
   "outputs": [
    {
     "name": "stdout",
     "output_type": "stream",
     "text": [
      "0.137776\n"
     ]
    }
   ],
   "source": [
    "data_x.iloc[26] = new_26\n",
    "\n",
    "print(data_x.iloc[26])"
   ]
  },
  {
   "cell_type": "code",
   "execution_count": 21,
   "metadata": {
    "pycharm": {
     "name": "#%%\n"
    }
   },
   "outputs": [
    {
     "data": {
      "text/plain": [
       "0.143238"
      ]
     },
     "execution_count": 21,
     "metadata": {},
     "output_type": "execute_result"
    }
   ],
   "source": [
    "data_x.iloc[59]"
   ]
  },
  {
   "cell_type": "code",
   "execution_count": 22,
   "metadata": {
    "pycharm": {
     "name": "#%%\n"
    }
   },
   "outputs": [],
   "source": [
    "# для x = 59\n",
    "new_59 = (data_x.iloc[58] + data_x.iloc[60]) / 2"
   ]
  },
  {
   "cell_type": "code",
   "execution_count": 23,
   "metadata": {
    "pycharm": {
     "name": "#%%\n"
    }
   },
   "outputs": [
    {
     "name": "stdout",
     "output_type": "stream",
     "text": [
      "0.14095999999999997\n"
     ]
    }
   ],
   "source": [
    "data_x.iloc[59] = new_59\n",
    "\n",
    "print(data_x.iloc[59])"
   ]
  },
  {
   "cell_type": "markdown",
   "metadata": {},
   "source": [
    "## Часть два"
   ]
  },
  {
   "cell_type": "code",
   "execution_count": 24,
   "metadata": {
    "pycharm": {
     "name": "#%%\n"
    }
   },
   "outputs": [],
   "source": [
    "# х - исходное\n",
    "x_ish = data_x\n",
    "# х - упорядочные\n",
    "x_ranz = data_x.sort_values()\n",
    "# х - первая половина\n",
    "x1 = data_x.iloc[ : len(data_x)//2]\n",
    "# х - вторая половина\n",
    "x2 = data_x.iloc[len(data_x)//2 : ]"
   ]
  },
  {
   "cell_type": "code",
   "execution_count": 25,
   "metadata": {
    "pycharm": {
     "name": "#%%\n"
    }
   },
   "outputs": [
    {
     "name": "stdout",
     "output_type": "stream",
     "text": [
      "D(x1) = 4.793673184295297e-06, D(x2) = 5.1391026212080556e-06\n",
      "D(x1) != D(x2), тогда сипользуем критерий серий\n"
     ]
    }
   ],
   "source": [
    "# D(x1) - дисперси х1\n",
    "x1_var = x1.var()\n",
    "\n",
    "# D(x2) -  дисперсия х2\n",
    "x2_var = x2.var()\n",
    "\n",
    "print(f'D(x1) = {x1_var}, D(x2) = {x2_var}')\n",
    "print(f'D(x1) = D(x2), тогда используем критерий Стьюдента' if x2_var == x1_var else f'D(x1) != D(x2), тогда сипользуем критерий серий')"
   ]
  },
  {
   "cell_type": "code",
   "execution_count": 26,
   "metadata": {
    "pycharm": {
     "name": "#%%\n"
    }
   },
   "outputs": [],
   "source": [
    "# Находим медиану\n",
    "x_med = x_ranz.median()"
   ]
  },
  {
   "cell_type": "code",
   "execution_count": 27,
   "metadata": {
    "pycharm": {
     "name": "#%%\n"
    }
   },
   "outputs": [
    {
     "data": {
      "text/plain": [
       "0.1346835"
      ]
     },
     "execution_count": 27,
     "metadata": {},
     "output_type": "execute_result"
    }
   ],
   "source": [
    "x_med"
   ]
  },
  {
   "cell_type": "code",
   "execution_count": 28,
   "metadata": {
    "pycharm": {
     "name": "#%%\n"
    }
   },
   "outputs": [],
   "source": [
    "data_x = pd.DataFrame(data_x)"
   ]
  },
  {
   "cell_type": "code",
   "execution_count": 29,
   "metadata": {
    "pycharm": {
     "name": "#%%\n"
    }
   },
   "outputs": [],
   "source": [
    "result = ['+' if x > x_med else '-' for x in data_x['<CLOSE>']]"
   ]
  },
  {
   "cell_type": "code",
   "execution_count": 30,
   "metadata": {
    "pycharm": {
     "name": "#%%\n"
    }
   },
   "outputs": [],
   "source": [
    "data_x[\"Result\"] = np.array(result)"
   ]
  },
  {
   "cell_type": "code",
   "execution_count": 31,
   "metadata": {
    "pycharm": {
     "name": "#%%\n"
    }
   },
   "outputs": [
    {
     "data": {
      "text/html": [
       "<div>\n",
       "<style scoped>\n",
       "    .dataframe tbody tr th:only-of-type {\n",
       "        vertical-align: middle;\n",
       "    }\n",
       "\n",
       "    .dataframe tbody tr th {\n",
       "        vertical-align: top;\n",
       "    }\n",
       "\n",
       "    .dataframe thead th {\n",
       "        text-align: right;\n",
       "    }\n",
       "</style>\n",
       "<table border=\"1\" class=\"dataframe\">\n",
       "  <thead>\n",
       "    <tr style=\"text-align: right;\">\n",
       "      <th></th>\n",
       "      <th>&lt;CLOSE&gt;</th>\n",
       "      <th>Result</th>\n",
       "    </tr>\n",
       "  </thead>\n",
       "  <tbody>\n",
       "    <tr>\n",
       "      <th>0</th>\n",
       "      <td>0.137824</td>\n",
       "      <td>+</td>\n",
       "    </tr>\n",
       "    <tr>\n",
       "      <th>1</th>\n",
       "      <td>0.136716</td>\n",
       "      <td>+</td>\n",
       "    </tr>\n",
       "    <tr>\n",
       "      <th>2</th>\n",
       "      <td>0.136376</td>\n",
       "      <td>+</td>\n",
       "    </tr>\n",
       "    <tr>\n",
       "      <th>3</th>\n",
       "      <td>0.137463</td>\n",
       "      <td>+</td>\n",
       "    </tr>\n",
       "    <tr>\n",
       "      <th>4</th>\n",
       "      <td>0.135821</td>\n",
       "      <td>+</td>\n",
       "    </tr>\n",
       "    <tr>\n",
       "      <th>...</th>\n",
       "      <td>...</td>\n",
       "      <td>...</td>\n",
       "    </tr>\n",
       "    <tr>\n",
       "      <th>295</th>\n",
       "      <td>0.130744</td>\n",
       "      <td>-</td>\n",
       "    </tr>\n",
       "    <tr>\n",
       "      <th>296</th>\n",
       "      <td>0.130491</td>\n",
       "      <td>-</td>\n",
       "    </tr>\n",
       "    <tr>\n",
       "      <th>297</th>\n",
       "      <td>0.130162</td>\n",
       "      <td>-</td>\n",
       "    </tr>\n",
       "    <tr>\n",
       "      <th>298</th>\n",
       "      <td>0.129989</td>\n",
       "      <td>-</td>\n",
       "    </tr>\n",
       "    <tr>\n",
       "      <th>299</th>\n",
       "      <td>0.128576</td>\n",
       "      <td>-</td>\n",
       "    </tr>\n",
       "  </tbody>\n",
       "</table>\n",
       "<p>300 rows × 2 columns</p>\n",
       "</div>"
      ],
      "text/plain": [
       "      <CLOSE> Result\n",
       "0    0.137824      +\n",
       "1    0.136716      +\n",
       "2    0.136376      +\n",
       "3    0.137463      +\n",
       "4    0.135821      +\n",
       "..        ...    ...\n",
       "295  0.130744      -\n",
       "296  0.130491      -\n",
       "297  0.130162      -\n",
       "298  0.129989      -\n",
       "299  0.128576      -\n",
       "\n",
       "[300 rows x 2 columns]"
      ]
     },
     "execution_count": 31,
     "metadata": {},
     "output_type": "execute_result"
    }
   ],
   "source": [
    "data_x"
   ]
  },
  {
   "cell_type": "code",
   "execution_count": 33,
   "metadata": {
    "pycharm": {
     "name": "#%%\n"
    }
   },
   "outputs": [],
   "source": [
    "# число последовательностей '+' и '-'\n",
    "data_x['seq'] = (data_x.Result!=data_x.Result.shift()).ne(0).cumsum()"
   ]
  },
  {
   "cell_type": "code",
   "execution_count": 34,
   "metadata": {
    "pycharm": {
     "name": "#%%\n"
    }
   },
   "outputs": [
    {
     "data": {
      "text/html": [
       "<div>\n",
       "<style scoped>\n",
       "    .dataframe tbody tr th:only-of-type {\n",
       "        vertical-align: middle;\n",
       "    }\n",
       "\n",
       "    .dataframe tbody tr th {\n",
       "        vertical-align: top;\n",
       "    }\n",
       "\n",
       "    .dataframe thead th {\n",
       "        text-align: right;\n",
       "    }\n",
       "</style>\n",
       "<table border=\"1\" class=\"dataframe\">\n",
       "  <thead>\n",
       "    <tr style=\"text-align: right;\">\n",
       "      <th></th>\n",
       "      <th>&lt;CLOSE&gt;</th>\n",
       "      <th>Result</th>\n",
       "      <th>seq</th>\n",
       "    </tr>\n",
       "  </thead>\n",
       "  <tbody>\n",
       "    <tr>\n",
       "      <th>0</th>\n",
       "      <td>0.137824</td>\n",
       "      <td>+</td>\n",
       "      <td>1</td>\n",
       "    </tr>\n",
       "    <tr>\n",
       "      <th>1</th>\n",
       "      <td>0.136716</td>\n",
       "      <td>+</td>\n",
       "      <td>1</td>\n",
       "    </tr>\n",
       "    <tr>\n",
       "      <th>2</th>\n",
       "      <td>0.136376</td>\n",
       "      <td>+</td>\n",
       "      <td>1</td>\n",
       "    </tr>\n",
       "    <tr>\n",
       "      <th>3</th>\n",
       "      <td>0.137463</td>\n",
       "      <td>+</td>\n",
       "      <td>1</td>\n",
       "    </tr>\n",
       "    <tr>\n",
       "      <th>4</th>\n",
       "      <td>0.135821</td>\n",
       "      <td>+</td>\n",
       "      <td>1</td>\n",
       "    </tr>\n",
       "    <tr>\n",
       "      <th>...</th>\n",
       "      <td>...</td>\n",
       "      <td>...</td>\n",
       "      <td>...</td>\n",
       "    </tr>\n",
       "    <tr>\n",
       "      <th>295</th>\n",
       "      <td>0.130744</td>\n",
       "      <td>-</td>\n",
       "      <td>36</td>\n",
       "    </tr>\n",
       "    <tr>\n",
       "      <th>296</th>\n",
       "      <td>0.130491</td>\n",
       "      <td>-</td>\n",
       "      <td>36</td>\n",
       "    </tr>\n",
       "    <tr>\n",
       "      <th>297</th>\n",
       "      <td>0.130162</td>\n",
       "      <td>-</td>\n",
       "      <td>36</td>\n",
       "    </tr>\n",
       "    <tr>\n",
       "      <th>298</th>\n",
       "      <td>0.129989</td>\n",
       "      <td>-</td>\n",
       "      <td>36</td>\n",
       "    </tr>\n",
       "    <tr>\n",
       "      <th>299</th>\n",
       "      <td>0.128576</td>\n",
       "      <td>-</td>\n",
       "      <td>36</td>\n",
       "    </tr>\n",
       "  </tbody>\n",
       "</table>\n",
       "<p>300 rows × 3 columns</p>\n",
       "</div>"
      ],
      "text/plain": [
       "      <CLOSE> Result  seq\n",
       "0    0.137824      +    1\n",
       "1    0.136716      +    1\n",
       "2    0.136376      +    1\n",
       "3    0.137463      +    1\n",
       "4    0.135821      +    1\n",
       "..        ...    ...  ...\n",
       "295  0.130744      -   36\n",
       "296  0.130491      -   36\n",
       "297  0.130162      -   36\n",
       "298  0.129989      -   36\n",
       "299  0.128576      -   36\n",
       "\n",
       "[300 rows x 3 columns]"
      ]
     },
     "execution_count": 34,
     "metadata": {},
     "output_type": "execute_result"
    }
   ],
   "source": [
    "data_x"
   ]
  },
  {
   "cell_type": "code",
   "execution_count": 35,
   "metadata": {
    "pycharm": {
     "name": "#%%\n"
    }
   },
   "outputs": [
    {
     "data": {
      "text/plain": [
       "64"
      ]
     },
     "execution_count": 35,
     "metadata": {},
     "output_type": "execute_result"
    }
   ],
   "source": [
    "# самая длинная серия tau(n) из '+' или '-'\n",
    "from itertools import groupby\n",
    "\n",
    "# в s  запишем список последовательности плюсов и минусов\n",
    "s = result\n",
    "# длинна самой длинной подпоследовательности\n",
    "max(sum(1 for _ in g) for k, g in groupby(s) if k)"
   ]
  },
  {
   "cell_type": "code",
   "execution_count": 37,
   "metadata": {
    "pycharm": {
     "name": "#%%\n"
    }
   },
   "outputs": [
    {
     "data": {
      "text/plain": [
       "64"
      ]
     },
     "execution_count": 37,
     "metadata": {},
     "output_type": "execute_result"
    }
   ],
   "source": [
    "max([len(list(group)) for key, group in groupby(s)])"
   ]
  },
  {
   "cell_type": "code",
   "execution_count": 40,
   "metadata": {
    "pycharm": {
     "name": "#%%\n"
    }
   },
   "outputs": [],
   "source": [
    "v_n = 36\n",
    "tau_n = 64"
   ]
  },
  {
   "cell_type": "code",
   "execution_count": 41,
   "metadata": {
    "pycharm": {
     "name": "#%%\n"
    }
   },
   "outputs": [
    {
     "name": "stdout",
     "output_type": "stream",
     "text": [
      "v=134.05421586352523, tau=8.16116767859089\n"
     ]
    }
   ],
   "source": [
    "v = (n+2 - 1.96*np.sqrt(n-1))/2\n",
    "tau = (1.43 * np.log(n+1))\n",
    "\n",
    "print(f'v={v}, tau={tau}')"
   ]
  },
  {
   "cell_type": "markdown",
   "metadata": {},
   "source": [
    "По условию неравенства\n",
    "- V(n) > v\n",
    "- tau(n) < tau"
   ]
  },
  {
   "cell_type": "markdown",
   "metadata": {},
   "source": [
    "# 3. Определение параметров модели ARMA(p,q). Построение прогноза временного ряда\n",
    "\n",
    "\n",
    "Цель: данные временного ряда для любого стационарного процесса (график имеет колебания вдоль горизонтальной прямой, равной среднему значению ряда, в течение некоторого периода) после центрирования (т.е. вычитания среднего) и нормирования (т.е. деления на корень из дисперсии) проверить на соответствие/несоответствие модели ARMA (p,q), используя коррелограмму (графики автокорреляционной и частной автокорреляционной функции с лагами до 10-15 шагов). Дополнительные сведения для этой задачи можно найти по [ссылке](https://studme.org/41017/ekonomika/opredelenie_poryadka_modeli_avtoregressii_skolzyaschey_sredney)\n",
    "Дополнительно: после определения параметров p и q построить прогноз временного ряда на 3-5 шагов вперед."
   ]
  },
  {
   "cell_type": "markdown",
   "metadata": {},
   "source": [
    "Ссылки\n",
    "- [habr](https://habr.com/ru/post/207160/)\n",
    "- [лекция](https://github.com/AnastasiyaMax/ML_DPO_2021_spring/blob/a30d463af9958d96eceb757c31ac2223db92761f/class_15/lecture_15_ts.ipynb)\n",
    "- [семинар](https://github.com/AnastasiyaMax/ML_DPO_2021_spring/blob/a30d463af9958d96eceb757c31ac2223db92761f/class_15/sem15_ts.ipynb)"
   ]
  },
  {
   "cell_type": "code",
   "execution_count": 67,
   "metadata": {
    "pycharm": {
     "name": "#%%\n"
    }
   },
   "outputs": [],
   "source": [
    "import pandas as pd\n",
    "import numpy as np\n",
    "import matplotlib.pyplot as plt\n",
    "\n",
    "from statsmodels.tsa.arima.model import ARIMA\n",
    "from statsmodels.tsa.stattools import adfuller, acf\n",
    "from statsmodels.graphics.tsaplots import pacf, plot_acf, plot_pacf\n",
    "from statsmodels.tsa import stattools"
   ]
  },
  {
   "cell_type": "code",
   "execution_count": 47,
   "metadata": {
    "pycharm": {
     "name": "#%%\n"
    }
   },
   "outputs": [
    {
     "data": {
      "text/html": [
       "<div>\n",
       "<style scoped>\n",
       "    .dataframe tbody tr th:only-of-type {\n",
       "        vertical-align: middle;\n",
       "    }\n",
       "\n",
       "    .dataframe tbody tr th {\n",
       "        vertical-align: top;\n",
       "    }\n",
       "\n",
       "    .dataframe thead th {\n",
       "        text-align: right;\n",
       "    }\n",
       "</style>\n",
       "<table border=\"1\" class=\"dataframe\">\n",
       "  <thead>\n",
       "    <tr style=\"text-align: right;\">\n",
       "      <th></th>\n",
       "      <th>&lt;DATE&gt;</th>\n",
       "      <th>&lt;TIME&gt;</th>\n",
       "      <th>&lt;OPEN&gt;</th>\n",
       "      <th>&lt;HIGH&gt;</th>\n",
       "      <th>&lt;LOW&gt;</th>\n",
       "      <th>&lt;CLOSE&gt;</th>\n",
       "      <th>&lt;VOL&gt;</th>\n",
       "    </tr>\n",
       "  </thead>\n",
       "  <tbody>\n",
       "    <tr>\n",
       "      <th>1701</th>\n",
       "      <td>20211111</td>\n",
       "      <td>0</td>\n",
       "      <td>0.1450</td>\n",
       "      <td>0.1580</td>\n",
       "      <td>0.1421</td>\n",
       "      <td>0.1505</td>\n",
       "      <td>1028957</td>\n",
       "    </tr>\n",
       "    <tr>\n",
       "      <th>1702</th>\n",
       "      <td>20211112</td>\n",
       "      <td>0</td>\n",
       "      <td>0.1470</td>\n",
       "      <td>0.1470</td>\n",
       "      <td>0.0750</td>\n",
       "      <td>0.0759</td>\n",
       "      <td>11942353</td>\n",
       "    </tr>\n",
       "    <tr>\n",
       "      <th>1703</th>\n",
       "      <td>20211115</td>\n",
       "      <td>0</td>\n",
       "      <td>0.0600</td>\n",
       "      <td>0.0699</td>\n",
       "      <td>0.0440</td>\n",
       "      <td>0.0489</td>\n",
       "      <td>10657276</td>\n",
       "    </tr>\n",
       "    <tr>\n",
       "      <th>1704</th>\n",
       "      <td>20211116</td>\n",
       "      <td>0</td>\n",
       "      <td>0.0489</td>\n",
       "      <td>0.0489</td>\n",
       "      <td>0.0489</td>\n",
       "      <td>0.0489</td>\n",
       "      <td>1</td>\n",
       "    </tr>\n",
       "    <tr>\n",
       "      <th>1705</th>\n",
       "      <td>20211117</td>\n",
       "      <td>0</td>\n",
       "      <td>0.0000</td>\n",
       "      <td>0.0000</td>\n",
       "      <td>0.0000</td>\n",
       "      <td>0.0000</td>\n",
       "      <td>0</td>\n",
       "    </tr>\n",
       "  </tbody>\n",
       "</table>\n",
       "</div>"
      ],
      "text/plain": [
       "        <DATE>  <TIME>  <OPEN>  <HIGH>   <LOW>  <CLOSE>     <VOL>\n",
       "1701  20211111       0  0.1450  0.1580  0.1421   0.1505   1028957\n",
       "1702  20211112       0  0.1470  0.1470  0.0750   0.0759  11942353\n",
       "1703  20211115       0  0.0600  0.0699  0.0440   0.0489  10657276\n",
       "1704  20211116       0  0.0489  0.0489  0.0489   0.0489         1\n",
       "1705  20211117       0  0.0000  0.0000  0.0000   0.0000         0"
      ]
     },
     "execution_count": 47,
     "metadata": {},
     "output_type": "execute_result"
    }
   ],
   "source": [
    "# акции германии\n",
    "df1 = pd.read_csv(r'/Users/rinatmahmutov/Documents/DataSpell/Python Notebooks/data/financial_market_volatility/WDI-TDG_150201_220217.csv')\n",
    "df1.tail()"
   ]
  },
  {
   "cell_type": "code",
   "execution_count": 48,
   "metadata": {
    "pycharm": {
     "name": "#%%\n"
    }
   },
   "outputs": [
    {
     "data": {
      "text/plain": [
       "<AxesSubplot:>"
      ]
     },
     "execution_count": 48,
     "metadata": {},
     "output_type": "execute_result"
    },
    {
     "data": {
      "image/png": "[encoded data removed]",
      "text/plain": [
       "<Figure size 864x432 with 1 Axes>"
      ]
     },
     "metadata": {
      "needs_background": "light"
     },
     "output_type": "display_data"
    }
   ],
   "source": [
    "data_all  = df1.loc[:, \"<CLOSE>\"]\n",
    "\n",
    "data_all.plot(figsize=(12,6))"
   ]
  },
  {
   "cell_type": "code",
   "execution_count": 49,
   "metadata": {
    "pycharm": {
     "name": "#%%\n"
    }
   },
   "outputs": [],
   "source": [
    "data_x  = df1.loc[700:1000, \"<CLOSE>\"]"
   ]
  },
  {
   "cell_type": "code",
   "execution_count": 50,
   "metadata": {
    "pycharm": {
     "name": "#%%\n"
    }
   },
   "outputs": [
    {
     "data": {
      "text/plain": [
       "<AxesSubplot:>"
      ]
     },
     "execution_count": 50,
     "metadata": {},
     "output_type": "execute_result"
    },
    {
     "data": {
      "image/png": "[encoded data removed]",
      "text/plain": [
       "<Figure size 864x432 with 1 Axes>"
      ]
     },
     "metadata": {
      "needs_background": "light"
     },
     "output_type": "display_data"
    }
   ],
   "source": [
    "data_x.plot(figsize=(12,6))"
   ]
  },
  {
   "cell_type": "code",
   "execution_count": 51,
   "metadata": {
    "pycharm": {
     "name": "#%%\n"
    }
   },
   "outputs": [],
   "source": [
    "time_series = pd.Series(data_x)"
   ]
  },
  {
   "cell_type": "code",
   "execution_count": 52,
   "metadata": {
    "pycharm": {
     "name": "#%%\n"
    }
   },
   "outputs": [
    {
     "data": {
      "text/plain": [
       "700      85.66\n",
       "701      85.54\n",
       "702      82.64\n",
       "703      81.29\n",
       "704      82.32\n",
       "         ...  \n",
       "996     167.35\n",
       "997     166.55\n",
       "998     167.00\n",
       "999     145.30\n",
       "1000    145.00\n",
       "Name: <CLOSE>, Length: 301, dtype: float64"
      ]
     },
     "execution_count": 52,
     "metadata": {},
     "output_type": "execute_result"
    }
   ],
   "source": [
    "time_series"
   ]
  },
  {
   "cell_type": "markdown",
   "metadata": {},
   "source": [
    "1. Проверка ADF:\n",
    "\n",
    "Проверьте стабильность данных. Нестабильные данные не могут обеспечить лучший результат прогнозирования. Если p-значение тестовых выходных данных велико, это означает, что данные нестабильны."
   ]
  },
  {
   "cell_type": "code",
   "execution_count": 53,
   "metadata": {
    "pycharm": {
     "name": "#%%\n"
    }
   },
   "outputs": [],
   "source": [
    "def adf_test(ts):\n",
    "    \"\"\"\n",
    "    Для проверки стационарности  проведем обобщенный тест Дикки-Фуллера на наличие единичных корней.\n",
    "    Для этого в модуле statsmodels есть функция adfuller()\n",
    "    \"\"\"\n",
    "    adftest = adfuller(ts)\n",
    "    adf_res = pd.Series(adftest[0:4], index=['Test Statistic','p-value','Lags Used','Number of Observations Used'])\n",
    "    for key, value in adftest[4].items():\n",
    "        adf_res['Critical Value (%s)' % key] = value\n",
    "\n",
    "    if adftest[0] > adftest[4]['5%']:\n",
    "        print('есть единичные корни, ряд не стационарен')\n",
    "    else:\n",
    "        print('единичных корней нет, ряд стационарен')\n",
    "\n",
    "    return adf_res"
   ]
  },
  {
   "cell_type": "code",
   "execution_count": 54,
   "metadata": {
    "pycharm": {
     "name": "#%%\n"
    }
   },
   "outputs": [
    {
     "name": "stdout",
     "output_type": "stream",
     "text": [
      "есть единичные корни, ряд не стационарен\n"
     ]
    },
    {
     "data": {
      "text/plain": [
       "Test Statistic                  -1.421781\n",
       "p-value                          0.571790\n",
       "Lags Used                       16.000000\n",
       "Number of Observations Used    284.000000\n",
       "Critical Value (1%)             -3.453587\n",
       "Critical Value (5%)             -2.871771\n",
       "Critical Value (10%)            -2.572222\n",
       "dtype: float64"
      ]
     },
     "execution_count": 54,
     "metadata": {},
     "output_type": "execute_result"
    }
   ],
   "source": [
    "adf_test(time_series)"
   ]
  },
  {
   "cell_type": "markdown",
   "metadata": {},
   "source": []
  },
  {
   "cell_type": "markdown",
   "metadata": {
    "pycharm": {
     "name": "#%% md\n"
    }
   },
   "source": [
    "Проведенный тест подтвердил предположения о не стационарности ряда.\n",
    "\n",
    "Во многих случаях взятие разности рядов позволяет решить проюдему.\n",
    "\n",
    "Если, например, первые разности ряда стационарны, то он называется интегрированным рядом первого порядка.\n",
    "\n",
    "Итак, давайте определим порядок интегрированного ряда для нашего ряда"
   ]
  },
  {
   "cell_type": "markdown",
   "metadata": {},
   "source": [
    "2. Сглаживание\n",
    "\n",
    "Если данные нестабильны, их необходимо сначала сгладить. Общие методы включают метод разности и логарифмический метод.\n",
    "\n",
    "Функция diff() вычисляет разность исходного ряда с рядом с заданным смещением периода.\n",
    "Период смещения передается как параметр period.\n",
    "Т.к. в разности первое значение получиться неопределенным, то нам надо избавиться от него для этого и используется метод dropna()."
   ]
  },
  {
   "cell_type": "code",
   "execution_count": 55,
   "metadata": {
    "pycharm": {
     "name": "#%%\n"
    }
   },
   "outputs": [],
   "source": [
    "# Первое отличие\n",
    "def ts_diff(ts, d=1):\n",
    "    return ts.diff(d).dropna(how=any)\n"
   ]
  },
  {
   "cell_type": "code",
   "execution_count": 56,
   "metadata": {
    "pycharm": {
     "name": "#%%\n"
    }
   },
   "outputs": [],
   "source": [
    "time_series_diff = ts_diff(time_series)"
   ]
  },
  {
   "cell_type": "code",
   "execution_count": 57,
   "metadata": {
    "pycharm": {
     "name": "#%%\n"
    }
   },
   "outputs": [
    {
     "data": {
      "text/plain": [
       "701     -0.12\n",
       "702     -2.90\n",
       "703     -1.35\n",
       "704      1.03\n",
       "705      0.91\n",
       "        ...  \n",
       "996      1.85\n",
       "997     -0.80\n",
       "998      0.45\n",
       "999    -21.70\n",
       "1000    -0.30\n",
       "Name: <CLOSE>, Length: 300, dtype: float64"
      ]
     },
     "execution_count": 57,
     "metadata": {},
     "output_type": "execute_result"
    }
   ],
   "source": [
    "time_series_diff"
   ]
  },
  {
   "cell_type": "code",
   "execution_count": 58,
   "metadata": {
    "pycharm": {
     "name": "#%%\n"
    }
   },
   "outputs": [
    {
     "name": "stdout",
     "output_type": "stream",
     "text": [
      "единичных корней нет, ряд стационарен\n"
     ]
    },
    {
     "data": {
      "text/plain": [
       "Test Statistic                  -3.513420\n",
       "p-value                          0.007649\n",
       "Lags Used                       15.000000\n",
       "Number of Observations Used    284.000000\n",
       "Critical Value (1%)             -3.453587\n",
       "Critical Value (5%)             -2.871771\n",
       "Critical Value (10%)            -2.572222\n",
       "dtype: float64"
      ]
     },
     "execution_count": 58,
     "metadata": {},
     "output_type": "execute_result"
    }
   ],
   "source": [
    "adf_test(time_series_diff)"
   ]
  },
  {
   "cell_type": "code",
   "execution_count": 59,
   "metadata": {
    "pycharm": {
     "name": "#%%\n"
    }
   },
   "outputs": [
    {
     "data": {
      "text/plain": [
       "Int64Index([ 701,  702,  703,  704,  705,  706,  707,  708,  709,  710,\n",
       "            ...\n",
       "             991,  992,  993,  994,  995,  996,  997,  998,  999, 1000],\n",
       "           dtype='int64', length=300)"
      ]
     },
     "execution_count": 59,
     "metadata": {},
     "output_type": "execute_result"
    }
   ],
   "source": [
    "time_series_diff.index"
   ]
  },
  {
   "cell_type": "markdown",
   "metadata": {},
   "source": [
    "Получившийся ряд первых разностей приблизился к стационарному.\n"
   ]
  },
  {
   "cell_type": "markdown",
   "metadata": {},
   "source": [
    "Убедимся в отсутствии тренда для этого построим график нашего нового ряда"
   ]
  },
  {
   "cell_type": "code",
   "execution_count": 60,
   "metadata": {
    "pycharm": {
     "name": "#%%\n"
    }
   },
   "outputs": [
    {
     "data": {
      "text/plain": [
       "<AxesSubplot:>"
      ]
     },
     "execution_count": 60,
     "metadata": {},
     "output_type": "execute_result"
    },
    {
     "data": {
      "image/png": "[encoded data removed]",
      "text/plain": [
       "<Figure size 864x432 with 1 Axes>"
      ]
     },
     "metadata": {
      "needs_background": "light"
     },
     "output_type": "display_data"
    }
   ],
   "source": [
    "time_series_diff.plot(figsize=(12,6))"
   ]
  },
  {
   "cell_type": "markdown",
   "metadata": {
    "pycharm": {
     "name": "#%% md\n"
    }
   },
   "source": [
    "Тренд действительно отсутствует, таким образом ряд первых разностей является стационарным, а наш исходный ряд — интегрированным рядом первого порядка."
   ]
  },
  {
   "cell_type": "markdown",
   "metadata": {},
   "source": [
    "3. Установите порядок\n",
    "\n",
    "Найдите порядок модели AR и модели MA с максимальной точностью. Как правило, ACF (функция автокорреляции) и PACF (функция частичной автокорреляции) используются для определения порядка моделей AR и MA."
   ]
  },
  {
   "cell_type": "markdown",
   "metadata": {},
   "source": [
    "Построение модели временного ряда\n",
    "\n",
    "Для моделирования будем использовать модель ARIMA, построенную для ряда первых разностей.\n",
    "Итак, чтобы построить модель нам нужно знать ее порядок, состоящий из 2-х параметров:\n",
    "\n",
    "p — порядок компоненты AR\n",
    "d — порядок интегрированного ряда\n",
    "q — порядок компонетны MA\n"
   ]
  },
  {
   "cell_type": "markdown",
   "metadata": {},
   "source": [
    "Параметр d есть и он равет 1, осталось определить p и q.\n",
    "Для их определения нам надо изучить авторкорреляционную(ACF) и частично автокорреляционную(PACF) функции для ряда первых разностей."
   ]
  },
  {
   "cell_type": "code",
   "execution_count": 61,
   "metadata": {
    "pycharm": {
     "name": "#%%\n"
    }
   },
   "outputs": [],
   "source": [
    "def get_pdq(time_series):\n",
    "    plot_acf(time_series)\n",
    "    plot_pacf(time_series)\n",
    "    plt.show()\n",
    "\n",
    "    r,rac,Q = stattools.acf(time_series, qstat=True)\n",
    "    prac = pacf(time_series, method='ywm')\n",
    "    table_data = np.c_[range(1,len(r)), r[1:],rac,prac[1:len(rac)+1],Q]\n",
    "    table = pd.DataFrame(table_data, columns=['lag', \"AC\",\"Q\", \"PAC\", \"Prob(>Q)\"])\n",
    "\n",
    "    print(table)\n",
    "    return table"
   ]
  },
  {
   "cell_type": "code",
   "execution_count": 62,
   "metadata": {
    "pycharm": {
     "name": "#%%\n"
    }
   },
   "outputs": [
    {
     "name": "stderr",
     "output_type": "stream",
     "text": [
      "/Users/rinatmahmutov/opt/anaconda3/lib/python3.9/site-packages/statsmodels/graphics/tsaplots.py:348: FutureWarning: The default method 'yw' can produce PACF values outside of the [-1,1] interval. After 0.13, the default will change tounadjusted Yule-Walker ('ywm'). You can use this method now by setting method='ywm'.\n",
      "  warnings.warn(\n"
     ]
    },
    {
     "data": {
      "image/png": "[encoded data removed]",
      "text/plain": [
       "<Figure size 432x288 with 1 Axes>"
      ]
     },
     "metadata": {
      "needs_background": "light"
     },
     "output_type": "display_data"
    },
    {
     "data": {
      "image/png": "[encoded data removed]",
      "text/plain": [
       "<Figure size 432x288 with 1 Axes>"
      ]
     },
     "metadata": {
      "needs_background": "light"
     },
     "output_type": "display_data"
    },
    {
     "name": "stdout",
     "output_type": "stream",
     "text": [
      "     lag        AC          Q       PAC  Prob(>Q)\n",
      "0    1.0 -0.173653   9.137430 -0.173653  0.002504\n",
      "1    2.0  0.038671   9.592095  0.008781  0.008262\n",
      "2    3.0  0.041445  10.116074  0.051173  0.017605\n",
      "3    4.0 -0.124719  14.877138 -0.113066  0.004963\n",
      "4    5.0  0.072830  16.506147  0.031792  0.005538\n",
      "5    6.0  0.009541  16.534201  0.033699  0.011157\n",
      "6    7.0 -0.125985  21.442091 -0.119007  0.003168\n",
      "7    8.0 -0.012002  21.486783 -0.074130  0.005961\n",
      "8    9.0  0.068001  22.926444  0.079352  0.006364\n",
      "9   10.0 -0.134301  28.561393 -0.107157  0.001467\n",
      "10  11.0  0.142934  34.966098  0.076263  0.000251\n",
      "11  12.0  0.082010  37.081895  0.140277  0.000217\n",
      "12  13.0 -0.050913  37.900184 -0.000227  0.000299\n",
      "13  14.0  0.045711  38.562096 -0.028638  0.000426\n",
      "14  15.0 -0.101203  41.817990 -0.074266  0.000240\n",
      "15  16.0  0.130299  47.234174  0.144172  0.000063\n",
      "16  17.0 -0.043352  47.835854 -0.049585  0.000091\n",
      "17  18.0 -0.049097  48.610306 -0.060261  0.000122\n",
      "18  19.0  0.120523  53.293745  0.165791  0.000042\n",
      "19  20.0 -0.061357  54.511873 -0.010396  0.000049\n",
      "20  21.0  0.043262  55.119632 -0.005367  0.000068\n",
      "21  22.0  0.045017  55.780090  0.062385  0.000092\n",
      "22  23.0 -0.004263  55.786034  0.047415  0.000152\n",
      "23  24.0 -0.013351  55.844548 -0.058070  0.000241\n"
     ]
    }
   ],
   "source": [
    "table = get_pdq(time_series_diff)"
   ]
  },
  {
   "cell_type": "markdown",
   "metadata": {},
   "source": [
    "После изучения коррелограммы PACF можно сделать вывод, что p = 1, т.к. на ней только 1 лаг сильно отличнен от нуля.\n",
    "\n",
    "По коррелограмме ACF можно увидеть, что q = 1, т.к. после лага 1 значении функций резко падают."
   ]
  },
  {
   "cell_type": "code",
   "execution_count": 63,
   "metadata": {
    "pycharm": {
     "name": "#%%\n"
    }
   },
   "outputs": [],
   "source": [
    "p, d, q = 1, 1, 1"
   ]
  },
  {
   "cell_type": "code",
   "execution_count": 64,
   "metadata": {
    "pycharm": {
     "name": "#%%\n"
    }
   },
   "outputs": [],
   "source": [
    "def ts_arma(ts, p, d, q):\n",
    "    model = ARIMA(ts, order=(p,d,q)).fit()\n",
    "    print(model.summary())\n",
    "\n",
    "    return model, model.predict()"
   ]
  },
  {
   "cell_type": "code",
   "execution_count": 65,
   "metadata": {
    "pycharm": {
     "name": "#%%\n"
    }
   },
   "outputs": [
    {
     "name": "stdout",
     "output_type": "stream",
     "text": [
      "                               SARIMAX Results                                \n",
      "==============================================================================\n",
      "Dep. Variable:                <CLOSE>   No. Observations:                  300\n",
      "Model:                 ARIMA(1, 1, 1)   Log Likelihood                -864.060\n",
      "Date:                Tue, 22 Mar 2022   AIC                           1734.120\n",
      "Time:                        15:51:36   BIC                           1745.221\n",
      "Sample:                             0   HQIC                          1738.563\n",
      "                                - 300                                         \n",
      "Covariance Type:                  opg                                         \n",
      "==============================================================================\n",
      "                 coef    std err          z      P>|z|      [0.025      0.975]\n",
      "------------------------------------------------------------------------------\n",
      "ar.L1         -0.1724      0.035     -4.986      0.000      -0.240      -0.105\n",
      "ma.L1         -0.9928      0.013    -73.671      0.000      -1.019      -0.966\n",
      "sigma2        18.6620      0.692     26.975      0.000      17.306      20.018\n",
      "===================================================================================\n",
      "Ljung-Box (L1) (Q):                   0.00   Jarque-Bera (JB):              1011.28\n",
      "Prob(Q):                              0.97   Prob(JB):                         0.00\n",
      "Heteroskedasticity (H):               8.42   Skew:                            -1.44\n",
      "Prob(H) (two-sided):                  0.00   Kurtosis:                        11.54\n",
      "===================================================================================\n",
      "\n",
      "Warnings:\n",
      "[1] Covariance matrix calculated using the outer product of gradients (complex-step).\n"
     ]
    },
    {
     "name": "stderr",
     "output_type": "stream",
     "text": [
      "/Users/rinatmahmutov/opt/anaconda3/lib/python3.9/site-packages/statsmodels/tsa/base/tsa_model.py:590: ValueWarning: An unsupported index was provided and will be ignored when e.g. forecasting.\n",
      "  warnings.warn('An unsupported index was provided and will be'\n",
      "/Users/rinatmahmutov/opt/anaconda3/lib/python3.9/site-packages/statsmodels/tsa/base/tsa_model.py:590: ValueWarning: An unsupported index was provided and will be ignored when e.g. forecasting.\n",
      "  warnings.warn('An unsupported index was provided and will be'\n",
      "/Users/rinatmahmutov/opt/anaconda3/lib/python3.9/site-packages/statsmodels/tsa/base/tsa_model.py:590: ValueWarning: An unsupported index was provided and will be ignored when e.g. forecasting.\n",
      "  warnings.warn('An unsupported index was provided and will be'\n"
     ]
    }
   ],
   "source": [
    "model, result = ts_arma(time_series_diff, p=p,d=d, q=q)"
   ]
  },
  {
   "cell_type": "markdown",
   "metadata": {},
   "source": [
    "Как видно из данной информации в нашей модели все коэффициенты значимые"
   ]
  },
  {
   "cell_type": "code",
   "execution_count": 66,
   "metadata": {
    "pycharm": {
     "name": "#%%\n"
    }
   },
   "outputs": [
    {
     "data": {
      "text/plain": [
       "<AxesSubplot:>"
      ]
     },
     "execution_count": 66,
     "metadata": {},
     "output_type": "execute_result"
    },
    {
     "data": {
      "image/png": "[encoded data removed]",
      "text/plain": [
       "<Figure size 864x432 with 1 Axes>"
      ]
     },
     "metadata": {
      "needs_background": "light"
     },
     "output_type": "display_data"
    }
   ],
   "source": [
    "time_series_diff.plot(figsize=(12, 6))\n",
    "result.plot(style='r--')"
   ]
  },
  {
   "cell_type": "code",
   "execution_count": 68,
   "metadata": {
    "pycharm": {
     "name": "#%%\n"
    }
   },
   "outputs": [
    {
     "name": "stdout",
     "output_type": "stream",
     "text": [
      "       Q-stat   p-value\n",
      "0    0.000496  0.982229\n",
      "1    0.078257  0.961627\n",
      "2    0.311069  0.957933\n",
      "3    4.201799  0.379384\n",
      "4    5.204975  0.391380\n",
      "5    5.205067  0.517794\n",
      "6   10.916477  0.142304\n",
      "7   11.114404  0.195301\n",
      "8   11.710087  0.230151\n",
      "9   15.291346  0.121795\n",
      "10  21.439950  0.029089\n",
      "11  24.669372  0.016470\n",
      "12  25.038398  0.022817\n",
      "13  25.152363  0.033093\n",
      "14  27.066057  0.028203\n",
      "15  30.957350  0.013626\n",
      "16  31.328071  0.018213\n",
      "17  31.875957  0.022742\n",
      "18  35.480944  0.012215\n",
      "19  35.971444  0.015500\n",
      "20  36.499060  0.019204\n",
      "21  37.402495  0.021358\n",
      "22  37.402569  0.029492\n",
      "23  37.402579  0.039875\n"
     ]
    }
   ],
   "source": [
    "#свойство resid, хранит остатки модели, qstat=True, означает что применяем указынный тест к коэф-ам\n",
    "\n",
    "q_test = acf(model.resid, qstat=True)\n",
    "print(pd.DataFrame({'Q-stat':q_test[1], 'p-value':q_test[2]}))"
   ]
  },
  {
   "cell_type": "markdown",
   "metadata": {},
   "source": [
    "Значение данной статистики и p-values, свидетельствуют о том, что гипотеза о случайности остатков отвергается, и скорее всего данный процесс не представляет «белый шум»."
   ]
  },
  {
   "cell_type": "code",
   "execution_count": 24,
   "metadata": {
    "pycharm": {
     "name": "#%%\n"
    }
   },
   "outputs": [
    {
     "data": {
      "text/plain": [
       "996    -0.712908\n",
       "997    -0.021642\n",
       "998     0.429337\n",
       "999     0.214036\n",
       "1000    3.869185\n",
       "Name: predicted_mean, dtype: float64"
      ]
     },
     "execution_count": 24,
     "metadata": {},
     "output_type": "execute_result"
    }
   ],
   "source": [
    "predictions_ARIMA_diff = pd.Series(result, copy=True)\n",
    "predictions_ARIMA_diff.tail()"
   ]
  },
  {
   "cell_type": "code",
   "execution_count": 25,
   "metadata": {
    "pycharm": {
     "name": "#%%\n"
    }
   },
   "outputs": [
    {
     "data": {
      "text/plain": [
       "78.1453704560975"
      ]
     },
     "execution_count": 25,
     "metadata": {},
     "output_type": "execute_result"
    }
   ],
   "source": [
    "predictions_ARIMA_diff.sum()"
   ]
  },
  {
   "cell_type": "code",
   "execution_count": 26,
   "metadata": {
    "pycharm": {
     "name": "#%%\n"
    }
   },
   "outputs": [
    {
     "data": {
      "text/plain": [
       "996     73.654455\n",
       "997     73.632812\n",
       "998     74.062149\n",
       "999     74.276185\n",
       "1000    78.145370\n",
       "Name: predicted_mean, dtype: float64"
      ]
     },
     "execution_count": 26,
     "metadata": {},
     "output_type": "execute_result"
    }
   ],
   "source": [
    "predictions_ARIMA_diff_cumsum = predictions_ARIMA_diff.cumsum()\n",
    "predictions_ARIMA_diff_cumsum.tail()"
   ]
  },
  {
   "cell_type": "code",
   "execution_count": 27,
   "metadata": {
    "pycharm": {
     "name": "#%%\n"
    }
   },
   "outputs": [
    {
     "data": {
      "text/plain": [
       "700"
      ]
     },
     "execution_count": 27,
     "metadata": {},
     "output_type": "execute_result"
    }
   ],
   "source": [
    "time_series.index[0]"
   ]
  },
  {
   "cell_type": "code",
   "execution_count": 28,
   "metadata": {
    "pycharm": {
     "name": "#%%\n"
    }
   },
   "outputs": [
    {
     "data": {
      "text/plain": [
       "996     241.004455\n",
       "997     240.182812\n",
       "998     241.062149\n",
       "999     219.576185\n",
       "1000    223.145370\n",
       "dtype: float64"
      ]
     },
     "execution_count": 28,
     "metadata": {},
     "output_type": "execute_result"
    }
   ],
   "source": [
    "predictions_ARIMA_log = pd.Series(time_series, index=time_series.index)\n",
    "predictions_ARIMA_log = predictions_ARIMA_log.add(predictions_ARIMA_diff_cumsum, fill_value=0)\n",
    "predictions_ARIMA_log.tail()"
   ]
  },
  {
   "cell_type": "code",
   "execution_count": 38,
   "metadata": {
    "pycharm": {
     "name": "#%%\n"
    }
   },
   "outputs": [],
   "source": [
    "df1 = predictions_ARIMA_log"
   ]
  },
  {
   "cell_type": "code",
   "execution_count": 39,
   "metadata": {
    "pycharm": {
     "name": "#%%\n"
    }
   },
   "outputs": [],
   "source": [
    "res = pd.concat([data_x, df1], axis=1)"
   ]
  },
  {
   "cell_type": "code",
   "execution_count": 71,
   "metadata": {
    "pycharm": {
     "name": "#%%\n"
    }
   },
   "outputs": [],
   "source": [
    "res = res.rename(columns={'<CLOSE>' : \"price\"})"
   ]
  },
  {
   "cell_type": "code",
   "execution_count": 72,
   "metadata": {
    "pycharm": {
     "name": "#%%\n"
    }
   },
   "outputs": [],
   "source": [
    "res = res.rename(columns={0 : \"priceARIMA\"})"
   ]
  },
  {
   "cell_type": "code",
   "execution_count": 73,
   "metadata": {
    "pycharm": {
     "name": "#%%\n"
    }
   },
   "outputs": [
    {
     "data": {
      "text/html": [
       "<div>\n",
       "<style scoped>\n",
       "    .dataframe tbody tr th:only-of-type {\n",
       "        vertical-align: middle;\n",
       "    }\n",
       "\n",
       "    .dataframe tbody tr th {\n",
       "        vertical-align: top;\n",
       "    }\n",
       "\n",
       "    .dataframe thead th {\n",
       "        text-align: right;\n",
       "    }\n",
       "</style>\n",
       "<table border=\"1\" class=\"dataframe\">\n",
       "  <thead>\n",
       "    <tr style=\"text-align: right;\">\n",
       "      <th></th>\n",
       "      <th>price</th>\n",
       "      <th>priceARIMA</th>\n",
       "    </tr>\n",
       "  </thead>\n",
       "  <tbody>\n",
       "    <tr>\n",
       "      <th>700</th>\n",
       "      <td>85.66</td>\n",
       "      <td>85.660000</td>\n",
       "    </tr>\n",
       "    <tr>\n",
       "      <th>701</th>\n",
       "      <td>85.54</td>\n",
       "      <td>85.540000</td>\n",
       "    </tr>\n",
       "    <tr>\n",
       "      <th>702</th>\n",
       "      <td>82.64</td>\n",
       "      <td>82.520003</td>\n",
       "    </tr>\n",
       "    <tr>\n",
       "      <th>703</th>\n",
       "      <td>81.29</td>\n",
       "      <td>79.899581</td>\n",
       "    </tr>\n",
       "    <tr>\n",
       "      <th>704</th>\n",
       "      <td>82.32</td>\n",
       "      <td>79.362586</td>\n",
       "    </tr>\n",
       "    <tr>\n",
       "      <th>...</th>\n",
       "      <td>...</td>\n",
       "      <td>...</td>\n",
       "    </tr>\n",
       "    <tr>\n",
       "      <th>996</th>\n",
       "      <td>167.35</td>\n",
       "      <td>241.004455</td>\n",
       "    </tr>\n",
       "    <tr>\n",
       "      <th>997</th>\n",
       "      <td>166.55</td>\n",
       "      <td>240.182812</td>\n",
       "    </tr>\n",
       "    <tr>\n",
       "      <th>998</th>\n",
       "      <td>167.00</td>\n",
       "      <td>241.062149</td>\n",
       "    </tr>\n",
       "    <tr>\n",
       "      <th>999</th>\n",
       "      <td>145.30</td>\n",
       "      <td>219.576185</td>\n",
       "    </tr>\n",
       "    <tr>\n",
       "      <th>1000</th>\n",
       "      <td>145.00</td>\n",
       "      <td>223.145370</td>\n",
       "    </tr>\n",
       "  </tbody>\n",
       "</table>\n",
       "<p>301 rows × 2 columns</p>\n",
       "</div>"
      ],
      "text/plain": [
       "       price  priceARIMA\n",
       "700    85.66   85.660000\n",
       "701    85.54   85.540000\n",
       "702    82.64   82.520003\n",
       "703    81.29   79.899581\n",
       "704    82.32   79.362586\n",
       "...      ...         ...\n",
       "996   167.35  241.004455\n",
       "997   166.55  240.182812\n",
       "998   167.00  241.062149\n",
       "999   145.30  219.576185\n",
       "1000  145.00  223.145370\n",
       "\n",
       "[301 rows x 2 columns]"
      ]
     },
     "execution_count": 73,
     "metadata": {},
     "output_type": "execute_result"
    }
   ],
   "source": [
    "res"
   ]
  },
  {
   "cell_type": "code",
   "execution_count": 74,
   "metadata": {
    "pycharm": {
     "name": "#%%\n"
    }
   },
   "outputs": [
    {
     "data": {
      "text/plain": [
       "<AxesSubplot:>"
      ]
     },
     "execution_count": 74,
     "metadata": {},
     "output_type": "execute_result"
    },
    {
     "data": {
      "image/png": "[encoded data removed]",
      "text/plain": [
       "<Figure size 432x288 with 1 Axes>"
      ]
     },
     "metadata": {
      "needs_background": "light"
     },
     "output_type": "display_data"
    }
   ],
   "source": [
    "res.plot.line()"
   ]
  },
  {
   "cell_type": "markdown",
   "metadata": {
    "pycharm": {
     "name": "#%% md\n"
    }
   },
   "source": [
    "ARIMA — это хорошо, но ARIMA — это не все"
   ]
  }
 ],
 "metadata": {
  "colab": {
   "authorship_tag": "ABX9TyO5Jo1gK+14ASpMjNcImjHk",
   "collapsed_sections": [],
   "mount_file_id": "1jyAWb9Xt5UNqsp_ldsrsNs9Q0x0cN58D",
   "name": "Волатильность_финансового_рынка.ipynb",
   "provenance": []
  },
  "kernelspec": {
   "display_name": "Python 3 (ipykernel)",
   "language": "python",
   "name": "python3"
  },
  "language_info": {
   "codemirror_mode": {
    "name": "ipython",
    "version": 3
   },
   "file_extension": ".py",
   "mimetype": "text/x-python",
   "name": "python",
   "nbconvert_exporter": "python",
   "pygments_lexer": "ipython3",
   "version": "3.9.7"
  },
  "toc": {
   "base_numbering": 1,
   "nav_menu": {},
   "number_sections": true,
   "sideBar": true,
   "skip_h1_title": false,
   "title_cell": "Table of Contents",
   "title_sidebar": "Contents",
   "toc_cell": false,
   "toc_position": {},
   "toc_section_display": true,
   "toc_window_display": false
  },
  "varInspector": {
   "cols": {
    "lenName": 16,
    "lenType": 16,
    "lenVar": 40
   },
   "kernels_config": {
    "python": {
     "delete_cmd_postfix": "",
     "delete_cmd_prefix": "del ",
     "library": "var_list.py",
     "varRefreshCmd": "print(var_dic_list())"
    },
    "r": {
     "delete_cmd_postfix": ") ",
     "delete_cmd_prefix": "rm(",
     "library": "var_list.r",
     "varRefreshCmd": "cat(var_dic_list()) "
    }
   },
   "types_to_exclude": [
    "module",
    "function",
    "builtin_function_or_method",
    "instance",
    "_Feature"
   ],
   "window_display": false
  }
 },
 "nbformat": 4,
 "nbformat_minor": 1
}
